{
 "cells": [
  {
   "cell_type": "code",
   "execution_count": null,
   "id": "dd57c355",
   "metadata": {},
   "outputs": [],
   "source": [
    "1. What is a lambda function in Python, and how does it differ from a regular function?\n",
    "Ans:#A lambda function in Python is a concise way to create anonymous functions, also known as lambda expressions. It is defined using the lambda keyword, followed by a list of parameters, a colon, and an expression"
   ]
  },
  {
   "cell_type": "code",
   "execution_count": 1,
   "id": "f0dd8a6b",
   "metadata": {},
   "outputs": [
    {
     "name": "stdout",
     "output_type": "stream",
     "text": [
      "8\n"
     ]
    }
   ],
   "source": [
    "add = lambda x, y: x + y\n",
    "print(add(3, 5))  # Output: 8\n"
   ]
  },
  {
   "cell_type": "code",
   "execution_count": null,
   "id": "349f6e9c",
   "metadata": {},
   "outputs": [],
   "source": [
    "Can a lambda function in Python have multiple arguments? If yes, how can you define and use\n",
    "them?\n",
    "Ans:"
   ]
  },
  {
   "cell_type": "code",
   "execution_count": 2,
   "id": "af1dd825",
   "metadata": {},
   "outputs": [
    {
     "name": "stdout",
     "output_type": "stream",
     "text": [
      "15\n"
     ]
    }
   ],
   "source": [
    "multiply = lambda x, y: x * y\n",
    "print(multiply(3, 5))  # Output: 15\n"
   ]
  },
  {
   "cell_type": "code",
   "execution_count": null,
   "id": "457fa495",
   "metadata": {},
   "outputs": [],
   "source": [
    "3. How are lambda functions typically used in Python? Provide an example use case.\n",
    "Ans:Lambda functions in Python are often used in situations where a small, temporary function is needed for a short period of time. They are commonly employed with functions like map(), filter(), and sorted(), where a simple operation is applied to elements in an iterable."
   ]
  },
  {
   "cell_type": "code",
   "execution_count": 5,
   "id": "964dd211",
   "metadata": {},
   "outputs": [
    {
     "name": "stdout",
     "output_type": "stream",
     "text": [
      "[2, 4, 6, 8, 10]\n",
      "[2, 4, 6, 8, 10]\n",
      "[(4, 1), (2, 3), (1, 5), (3, 6)]\n"
     ]
    }
   ],
   "source": [
    "#using map()\n",
    "numbers = [1, 2, 3, 4, 5]\n",
    "doubled_numbers = list(map(lambda x: x * 2, numbers))\n",
    "print(doubled_numbers)\n",
    "\n",
    "#using filter()\n",
    "numbers = [1, 2, 3, 4, 5, 6, 7, 8, 9, 10]\n",
    "even_numbers = list(filter(lambda x: x % 2 == 0, numbers))\n",
    "print(even_numbers)\n",
    "\n",
    "\n",
    "#using sorted()\n",
    "pairs = [(1, 5), (2, 3), (4, 1), (3, 6)]\n",
    "sorted_pairs = sorted(pairs, key=lambda x: x[1])\n",
    "print(sorted_pairs)\n",
    "\n"
   ]
  },
  {
   "cell_type": "code",
   "execution_count": null,
   "id": "80569809",
   "metadata": {},
   "outputs": [],
   "source": [
    "4. What are the advantages and limitations of lambda functions compared to regular functions in Python?\n",
    "Ans:#Advantages of Lambda Functions:\n",
    "\n",
    "Conciseness: Lambda functions provide a concise way to define small, one-off functions without the need for a full function definition using the def keyword. This can lead to more readable code, especially when the operation is simple.\n",
    "\n",
    "Readability in One-Liners: Lambda functions are often used in conjunction with functions like map(), filter(), and sorted(), making it easy to express operations in a single line without the need for a separate named function.\n",
    "\n",
    "Functional Programming: Lambda functions align well with the principles of functional programming, where functions are treated as first-class citizens. They can be passed as arguments to other functions or assigned to variables, facilitating a functional programming style.\n",
    "\n",
    "#Limitations of Lambda Functions:\n",
    "\n",
    "Limited Expressiveness: Lambda functions are limited to a single expression. They cannot contain statements or multiple expressions. This limitation makes them less suitable for more complex operations or functions with multiple statements.\n",
    "\n",
    "No Name: Lambda functions are anonymous; they do not have a name associated with them. While this is advantageous for short, one-off operations, it can be a limitation when debugging or when the function logic becomes more complex.\n",
    "\n",
    "Reduced Readability for Complex Operations: For complex operations or functions with multiple lines of code, using a lambda function may lead to reduced readability. In such cases, a regular named function defined with def can provide better structure and clarity.\n",
    "\n",
    "Less Discoverability: Unlike regular functions, lambda functions lack a docstring or a meaningful name, which can make it harder for others (or even yourself) to understand the purpose of the function without inspecting the code."
   ]
  },
  {
   "cell_type": "code",
   "execution_count": null,
   "id": "f0f407f8",
   "metadata": {},
   "outputs": [],
   "source": [
    "5. Are lambda functions in Python able to access variables defined outside of their own scope?\n",
    "Explain with an example.\n",
    "Ans:# lambda functions in Python can access variables defined outside of their own scope. This behavior is known as \"lexical scoping\" or \"closure.\" The lambda function retains access to the variables from the containing scope where it was defined, even if it is called elsewhere"
   ]
  },
  {
   "cell_type": "code",
   "execution_count": 6,
   "id": "f929faef",
   "metadata": {},
   "outputs": [
    {
     "name": "stdout",
     "output_type": "stream",
     "text": [
      "15\n"
     ]
    }
   ],
   "source": [
    "def outer_function(x):\n",
    "    # Define a lambda function within the outer function\n",
    "    inner_lambda = lambda y: x + y\n",
    "    return inner_lambda\n",
    "\n",
    "# Create a closure by calling outer_function with x=10\n",
    "closure_instance = outer_function(10)\n",
    "\n",
    "# Use the closure to add 5 to the captured value of x\n",
    "result = closure_instance(5)\n",
    "print(result)\n",
    "\n"
   ]
  },
  {
   "cell_type": "code",
   "execution_count": null,
   "id": "f2da0a97",
   "metadata": {},
   "outputs": [],
   "source": [
    "6. Write a lambda function to calculate the square of a given number.\n",
    "Ans:"
   ]
  },
  {
   "cell_type": "code",
   "execution_count": 8,
   "id": "14beb486",
   "metadata": {},
   "outputs": [
    {
     "name": "stdout",
     "output_type": "stream",
     "text": [
      "25\n"
     ]
    }
   ],
   "source": [
    "square = lambda x: x ** 2\n",
    "\n",
    "result = square(5)\n",
    "print(result)\n",
    "\n"
   ]
  },
  {
   "cell_type": "code",
   "execution_count": null,
   "id": "08a777e6",
   "metadata": {},
   "outputs": [],
   "source": [
    "7. Create a lambda function to find the maximum value in a list of integers\n",
    "Ans:"
   ]
  },
  {
   "cell_type": "code",
   "execution_count": 9,
   "id": "364ba8ba",
   "metadata": {},
   "outputs": [
    {
     "name": "stdout",
     "output_type": "stream",
     "text": [
      "10\n"
     ]
    }
   ],
   "source": [
    "find_max = lambda lst: max(lst)\n",
    "numbers = [4, 8, 2, 10, 5]\n",
    "max_value = find_max(numbers)\n",
    "print(max_value)\n",
    "\n"
   ]
  },
  {
   "cell_type": "code",
   "execution_count": null,
   "id": "5ae18e94",
   "metadata": {},
   "outputs": [],
   "source": [
    "8. Implement a lambda function to filter out all the even numbers from a list of integers.\n",
    "Ans:\n"
   ]
  },
  {
   "cell_type": "code",
   "execution_count": 10,
   "id": "9a7f8a04",
   "metadata": {},
   "outputs": [
    {
     "name": "stdout",
     "output_type": "stream",
     "text": [
      "[1, 3, 5, 7, 9]\n"
     ]
    }
   ],
   "source": [
    "filter_even = lambda lst: list(filter(lambda x: x % 2 != 0, lst))\n",
    "numbers = [1, 2, 3, 4, 5, 6, 7, 8, 9, 10]\n",
    "filtered_numbers = filter_even(numbers)\n",
    "print(filtered_numbers)\n",
    "\n"
   ]
  },
  {
   "cell_type": "code",
   "execution_count": null,
   "id": "a780fe94",
   "metadata": {},
   "outputs": [],
   "source": [
    "9. Write a lambda function to sort a list of strings in ascending order based on the length of each string.\n",
    "Ans:"
   ]
  },
  {
   "cell_type": "code",
   "execution_count": 11,
   "id": "7ca26a09",
   "metadata": {},
   "outputs": [
    {
     "name": "stdout",
     "output_type": "stream",
     "text": [
      "['kiwi', 'apple', 'grape', 'banana', 'orange']\n"
     ]
    }
   ],
   "source": [
    "sort_by_length = lambda lst: sorted(lst, key=lambda x: len(x))\n",
    "strings = [\"apple\", \"banana\", \"kiwi\", \"orange\", \"grape\"]\n",
    "sorted_strings = sort_by_length(strings)\n",
    "print(sorted_strings)\n",
    "\n"
   ]
  },
  {
   "cell_type": "code",
   "execution_count": null,
   "id": "8c0c6904",
   "metadata": {},
   "outputs": [],
   "source": [
    "10. Create a lambda function that takes two lists as input and returns a new list containing the common elements between the two lists.\n",
    "Ans:"
   ]
  },
  {
   "cell_type": "code",
   "execution_count": 12,
   "id": "a0ca5804",
   "metadata": {},
   "outputs": [
    {
     "name": "stdout",
     "output_type": "stream",
     "text": [
      "[3, 4, 5]\n"
     ]
    }
   ],
   "source": [
    "find_common_elements = lambda list1, list2: list(filter(lambda x: x in list2, list1))\n",
    "list1 = [1, 2, 3, 4, 5]\n",
    "list2 = [3, 4, 5, 6, 7]\n",
    "common_elements = find_common_elements(list1, list2)\n",
    "print(common_elements)\n",
    "\n"
   ]
  },
  {
   "cell_type": "code",
   "execution_count": null,
   "id": "ae678db4",
   "metadata": {},
   "outputs": [],
   "source": [
    "11. Write a recursive function to calculate the factorial of a given positive integer.\n",
    "Ans:"
   ]
  },
  {
   "cell_type": "code",
   "execution_count": 13,
   "id": "f809dabe",
   "metadata": {},
   "outputs": [
    {
     "name": "stdout",
     "output_type": "stream",
     "text": [
      "120\n"
     ]
    }
   ],
   "source": [
    "factorial = lambda n: 1 if n == 0 else n * factorial(n - 1)\n",
    "result = factorial(5)\n",
    "print(result)\n"
   ]
  },
  {
   "cell_type": "code",
   "execution_count": null,
   "id": "0b92649a",
   "metadata": {},
   "outputs": [],
   "source": [
    "12. Implement a recursive function to compute the nth Fibonacci number. \n",
    "Ans:"
   ]
  },
  {
   "cell_type": "code",
   "execution_count": 14,
   "id": "243435aa",
   "metadata": {},
   "outputs": [
    {
     "name": "stdout",
     "output_type": "stream",
     "text": [
      "8\n"
     ]
    }
   ],
   "source": [
    "fibonacci = lambda n: n if n <= 1 else fibonacci(n - 1) + fibonacci(n - 2)\n",
    "result = fibonacci(6)\n",
    "print(result)\n",
    "\n"
   ]
  },
  {
   "cell_type": "code",
   "execution_count": null,
   "id": "a92a28eb",
   "metadata": {},
   "outputs": [],
   "source": [
    "13. Create a recursive function to find the sum of all the elements in a given list.\n",
    "Ans:"
   ]
  },
  {
   "cell_type": "code",
   "execution_count": 16,
   "id": "aafd5efd",
   "metadata": {},
   "outputs": [
    {
     "name": "stdout",
     "output_type": "stream",
     "text": [
      "15\n"
     ]
    }
   ],
   "source": [
    "list_sum = lambda lst: 0 if not lst else lst[0] + list_sum(lst[1:])\n",
    "\n",
    "numbers = [1, 2, 3, 4, 5]\n",
    "result = list_sum(numbers)\n",
    "print(result)\n"
   ]
  },
  {
   "cell_type": "code",
   "execution_count": null,
   "id": "6c74fde0",
   "metadata": {},
   "outputs": [],
   "source": [
    "14. Write a recursive function to determine whether a given string is a palindrome.\n",
    "Ans:"
   ]
  },
  {
   "cell_type": "code",
   "execution_count": 17,
   "id": "d7d919c7",
   "metadata": {},
   "outputs": [
    {
     "name": "stdout",
     "output_type": "stream",
     "text": [
      "True\n",
      "False\n"
     ]
    }
   ],
   "source": [
    "is_palindrome = lambda s: (len(s) <= 1) or (s[0] == s[-1] and is_palindrome(s[1:-1]))\n",
    "result1 = is_palindrome(\"radar\")\n",
    "print(result1)\n",
    "\n",
    "result2 = is_palindrome(\"python\")\n",
    "print(result2)"
   ]
  },
  {
   "cell_type": "code",
   "execution_count": null,
   "id": "e25f8fd4",
   "metadata": {},
   "outputs": [],
   "source": [
    "15. Implement a recursive function to find the greatest common divisor (GCD) of two positive integers.\n",
    "Ans:"
   ]
  },
  {
   "cell_type": "code",
   "execution_count": 18,
   "id": "2984fae3",
   "metadata": {},
   "outputs": [
    {
     "name": "stdout",
     "output_type": "stream",
     "text": [
      "6\n"
     ]
    }
   ],
   "source": [
    "gcd = lambda a, b: a if b == 0 else gcd(b, a % b)\n",
    "result = gcd(48, 18)\n",
    "print(result)\n"
   ]
  },
  {
   "cell_type": "code",
   "execution_count": null,
   "id": "896495ee",
   "metadata": {},
   "outputs": [],
   "source": []
  }
 ],
 "metadata": {
  "kernelspec": {
   "display_name": "Python 3 (ipykernel)",
   "language": "python",
   "name": "python3"
  },
  "language_info": {
   "codemirror_mode": {
    "name": "ipython",
    "version": 3
   },
   "file_extension": ".py",
   "mimetype": "text/x-python",
   "name": "python",
   "nbconvert_exporter": "python",
   "pygments_lexer": "ipython3",
   "version": "3.11.3"
  }
 },
 "nbformat": 4,
 "nbformat_minor": 5
}
