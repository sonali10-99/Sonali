{
 "cells": [
  {
   "cell_type": "code",
   "execution_count": null,
   "id": "f03471c5",
   "metadata": {},
   "outputs": [],
   "source": [
    "1.What does an empty dictionary's code look like?"
   ]
  },
  {
   "cell_type": "code",
   "execution_count": null,
   "id": "94c054a2",
   "metadata": {},
   "outputs": [],
   "source": [
    "empty_dict = {}\n"
   ]
  },
  {
   "cell_type": "code",
   "execution_count": null,
   "id": "11f5c9c2",
   "metadata": {},
   "outputs": [],
   "source": [
    "2. What is the value of a dictionary value with the key &#39;foo&#39; and the value 42?"
   ]
  },
  {
   "cell_type": "code",
   "execution_count": 1,
   "id": "9daa5584",
   "metadata": {},
   "outputs": [
    {
     "name": "stdout",
     "output_type": "stream",
     "text": [
      "42\n"
     ]
    }
   ],
   "source": [
    "my_dict = {'foo': 42}\n",
    "value = my_dict['foo']\n",
    "print(value) \n"
   ]
  },
  {
   "cell_type": "code",
   "execution_count": null,
   "id": "87a26707",
   "metadata": {},
   "outputs": [],
   "source": [
    "3. What is the most significant distinction between a dictionary and a list?\n",
    "Ans: The most significant distinction between a dictionary and a list lies in how they organize and store data:\n",
    "\n",
    "1. **Organization of Data**: \n",
    "    - **Dictionary**: A dictionary stores data in key-value pairs, where each value is accessed by its corresponding key. Keys must be unique within a dictionary, and they are typically immutable (such as strings or numbers).\n",
    "    - **List**: A list stores data as an ordered collection of elements. Elements in a list are accessed by their position (index) in the list. Lists allow duplicate elements, and elements can be of any data type.\n",
    "\n",
    "2. **Accessing Elements**:\n",
    "    - **Dictionary**: Elements are accessed by their keys. This provides a fast lookup time, typically O(1) on average.\n",
    "    - **List**: Elements are accessed by their index, starting from 0. Accessing elements by index is generally fast (O(1)), but accessing elements by value (without knowing the index) requires iterating through the list, which can be slower, especially for large lists (O(n)).\n",
    "\n",
    "3. **Mutability**:\n",
    "    - **Dictionary**: Dictionaries are mutable, meaning you can modify, add, or remove key-value pairs after the dictionary is created.\n",
    "    - **List**: Lists are also mutable, allowing you to modify elements, append new elements, or remove existing elements.\n",
    "\n",
    "4. **Ordering**:\n",
    "    - **Dictionary**: Dictionaries in Python versions before 3.7 do not preserve the insertion order of elements. However, starting from Python 3.7, dictionaries preserve the insertion order of elements.\n",
    "    - **List**: Lists maintain the order of elements as they are inserted. The order of elements in a list remains the same unless explicitly modified.\n",
    "\n",
    "5. **Usage**:\n",
    "    - **Dictionary**: Dictionaries are suitable for storing data when there is a mapping between unique keys and their corresponding values. They are commonly used for representing real-world entities with associated attributes.\n",
    "    - **List**: Lists are suitable for storing collections of items when the order matters or when items need to be accessed by their position in the list.\n",
    "\n",
    "Understanding these distinctions is crucial for choosing the appropriate data structure based on the requirements of your program."
   ]
  },
  {
   "cell_type": "code",
   "execution_count": null,
   "id": "418bb624",
   "metadata": {},
   "outputs": [],
   "source": [
    "4. What happens if you try to access spam['foo'] if spam is {'bar': 100}?"
   ]
  },
  {
   "cell_type": "code",
   "execution_count": 2,
   "id": "5946f10c",
   "metadata": {},
   "outputs": [
    {
     "ename": "KeyError",
     "evalue": "'foo'",
     "output_type": "error",
     "traceback": [
      "\u001b[1;31m---------------------------------------------------------------------------\u001b[0m",
      "\u001b[1;31mKeyError\u001b[0m                                  Traceback (most recent call last)",
      "Cell \u001b[1;32mIn[2], line 2\u001b[0m\n\u001b[0;32m      1\u001b[0m spam \u001b[38;5;241m=\u001b[39m {\u001b[38;5;124m'\u001b[39m\u001b[38;5;124mbar\u001b[39m\u001b[38;5;124m'\u001b[39m: \u001b[38;5;241m100\u001b[39m}\n\u001b[1;32m----> 2\u001b[0m value \u001b[38;5;241m=\u001b[39m spam[\u001b[38;5;124m'\u001b[39m\u001b[38;5;124mfoo\u001b[39m\u001b[38;5;124m'\u001b[39m]\n",
      "\u001b[1;31mKeyError\u001b[0m: 'foo'"
     ]
    }
   ],
   "source": [
    "spam = {'bar': 100}\n",
    "value = spam['foo'] \n"
   ]
  },
  {
   "cell_type": "code",
   "execution_count": null,
   "id": "9d11d29f",
   "metadata": {},
   "outputs": [],
   "source": [
    "5. If a dictionary is stored in spam, what is the difference between the expressions 'cat' in spam and\n",
    "'cat' in spam.keys()?\n",
    "\n",
    "Ans: cat' in spam:\n",
    "\n",
    "This expression directly checks if the key 'cat' exists in the dictionary spam. If the key 'cat' is present in spam, regardless of its associated value, the expression evaluates to True. If 'cat' is not a key in spam, the expression evaluates to False.\n",
    "'cat' in spam.keys():\n",
    "\n",
    "This expression first retrieves all the keys from the dictionary spam using the keys() method, and then it checks if 'cat' exists in the list of keys. If 'cat' is present in the list of keys returned by spam.keys(), the expression evaluates to True; otherwise, it evaluates to False"
   ]
  },
  {
   "cell_type": "code",
   "execution_count": null,
   "id": "ca2a89e9",
   "metadata": {},
   "outputs": [],
   "source": [
    "6. If a dictionary is stored in spam, what is the difference between the expressions 'cat' in spam and\n",
    "'cat' in spam.values()?\n",
    "\n",
    "Ans:'cat' in spam:\n",
    "\n",
    "This expression checks if the key 'cat' exists in the dictionary spam. It directly searches for the key 'cat' within the keys of the dictionary. If the key 'cat' is present in spam, regardless of its associated value, the expression evaluates to True. If 'cat' is not a key in spam, the expression evaluates to False.\n",
    "'cat' in spam.values():\n",
    "\n",
    "This expression first retrieves all the values from the dictionary spam using the values() method, and then it checks if 'cat' exists in the list of values. If 'cat' is present in the list of values returned by spam.values(), the expression evaluates to True; otherwise, it evaluates to False."
   ]
  },
  {
   "cell_type": "code",
   "execution_count": null,
   "id": "94f01e27",
   "metadata": {},
   "outputs": [],
   "source": [
    "7. What is a shortcut for the following code?\n",
    "if 'color' not in spam:\n",
    "spam['color'] = 'black'"
   ]
  },
  {
   "cell_type": "code",
   "execution_count": null,
   "id": "1560ddcd",
   "metadata": {},
   "outputs": [],
   "source": [
    "spam.setdefault('color', 'black')\n"
   ]
  },
  {
   "cell_type": "code",
   "execution_count": null,
   "id": "ec28a8a6",
   "metadata": {},
   "outputs": [],
   "source": [
    "8. How do you \"pretty print\" dictionary values using which module and function?"
   ]
  },
  {
   "cell_type": "code",
   "execution_count": 3,
   "id": "9894a04a",
   "metadata": {},
   "outputs": [
    {
     "name": "stdout",
     "output_type": "stream",
     "text": [
      "{'key1': 'value1',\n",
      " 'key2': 'value2',\n",
      " 'key3': {'subkey1': 'subvalue1', 'subkey2': 'subvalue2'}}\n"
     ]
    }
   ],
   "source": [
    "import pprint\n",
    "\n",
    "my_dict = {'key1': 'value1', 'key2': 'value2', 'key3': {'subkey1': 'subvalue1', 'subkey2': 'subvalue2'}}\n",
    "\n",
    "pprint.pprint(my_dict)\n"
   ]
  },
  {
   "cell_type": "code",
   "execution_count": null,
   "id": "a4b790b8",
   "metadata": {},
   "outputs": [],
   "source": []
  },
  {
   "cell_type": "code",
   "execution_count": null,
   "id": "cb4913f6",
   "metadata": {},
   "outputs": [],
   "source": []
  },
  {
   "cell_type": "code",
   "execution_count": null,
   "id": "15d30eea",
   "metadata": {},
   "outputs": [],
   "source": []
  }
 ],
 "metadata": {
  "kernelspec": {
   "display_name": "Python 3 (ipykernel)",
   "language": "python",
   "name": "python3"
  },
  "language_info": {
   "codemirror_mode": {
    "name": "ipython",
    "version": 3
   },
   "file_extension": ".py",
   "mimetype": "text/x-python",
   "name": "python",
   "nbconvert_exporter": "python",
   "pygments_lexer": "ipython3",
   "version": "3.11.3"
  }
 },
 "nbformat": 4,
 "nbformat_minor": 5
}
