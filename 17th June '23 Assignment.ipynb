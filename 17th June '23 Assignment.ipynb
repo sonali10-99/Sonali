{
 "cells": [
  {
   "cell_type": "code",
   "execution_count": null,
   "id": "bd70c3bf",
   "metadata": {},
   "outputs": [],
   "source": [
    "1. What is the role of try and exception block?\n",
    "Ans:the try-except block allows you to handle exceptions gracefully, providing a mechanism to respond to errors in a controlled manner, rather than letting them propagate and potentially crash the program."
   ]
  },
  {
   "cell_type": "code",
   "execution_count": null,
   "id": "594816bf",
   "metadata": {},
   "outputs": [],
   "source": [
    "2. What is the syntax for a basic try-except block?\n",
    "Ans:"
   ]
  },
  {
   "cell_type": "code",
   "execution_count": 1,
   "id": "856a0a43",
   "metadata": {},
   "outputs": [
    {
     "ename": "IndentationError",
     "evalue": "expected an indented block after 'try' statement on line 1 (3636640103.py, line 4)",
     "output_type": "error",
     "traceback": [
      "\u001b[1;36m  Cell \u001b[1;32mIn[1], line 4\u001b[1;36m\u001b[0m\n\u001b[1;33m    except ExceptionType as e:\u001b[0m\n\u001b[1;37m    ^\u001b[0m\n\u001b[1;31mIndentationError\u001b[0m\u001b[1;31m:\u001b[0m expected an indented block after 'try' statement on line 1\n"
     ]
    }
   ],
   "source": [
    "try:\n",
    "    # Code that might raise an exception\n",
    "    # ...\n",
    "except ExceptionType as e:\n",
    "    # Code to handle the exception\n",
    "    # ...\n"
   ]
  },
  {
   "cell_type": "code",
   "execution_count": null,
   "id": "68734889",
   "metadata": {},
   "outputs": [],
   "source": [
    "3. What happens if an exception occurs inside a try block and there is no matching\n",
    "except block?\n",
    "Ans:If an exception occurs inside a try block and there is no matching except block to handle that specific exception type, the program will terminate, and an error message will be displayed. This is because the unhandled exception will propagate up the call stack until it reaches the top-level of the program, causing the program to exit.\n",
    "\n",
    "To prevent this termination and make the error handling more robust, it's a good practice to include a generic except block that can catch any exception"
   ]
  },
  {
   "cell_type": "code",
   "execution_count": null,
   "id": "790cc3be",
   "metadata": {},
   "outputs": [],
   "source": [
    "try:\n",
    "    # Code that might raise an exception\n",
    "    # ...\n",
    "except Exception as e:\n",
    "    # Code to handle any type of exception\n",
    "    # ...\n"
   ]
  },
  {
   "cell_type": "code",
   "execution_count": null,
   "id": "7e914b81",
   "metadata": {},
   "outputs": [],
   "source": [
    "4. What is the difference between using a bare except block and specifying a specific\n",
    "exception type?\n",
    "Ans:"
   ]
  },
  {
   "cell_type": "code",
   "execution_count": null,
   "id": "5462e763",
   "metadata": {},
   "outputs": [],
   "source": [
    "#Bare except block:\n",
    "try:\n",
    "    # Code that might raise an exception\n",
    "    # ...\n",
    "except:\n",
    "    # Code to handle any type of exception\n",
    "    # ...\n",
    "#Specific exception type:\n",
    "try:\n",
    "    # Code that might raise a specific exception\n",
    "    # ...\n",
    "except SpecificExceptionType as e:\n",
    "    # Code to handle the specific exception\n",
    "    # ...\n"
   ]
  },
  {
   "cell_type": "code",
   "execution_count": null,
   "id": "4d380526",
   "metadata": {},
   "outputs": [],
   "source": [
    "5. Can you have nested try-except blocks in Python? If yes, then give an example\n",
    "Ans:"
   ]
  },
  {
   "cell_type": "code",
   "execution_count": null,
   "id": "c9a7369c",
   "metadata": {},
   "outputs": [],
   "source": [
    "try:\n",
    "    # Outer try block\n",
    "    numerator = int(input(\"Enter the numerator: \"))\n",
    "    denominator = int(input(\"Enter the denominator: \"))\n",
    "\n",
    "    # Inner try block\n",
    "    try:\n",
    "        result = numerator / denominator\n",
    "    except ZeroDivisionError:\n",
    "        print(\"Cannot divide by zero in the inner try block.\")\n",
    "    else:\n",
    "        print(\"Result of division in the inner try block:\", result)\n",
    "\n",
    "except ValueError:\n",
    "    print(\"Invalid input. Please enter integers for the numerator and denominator.\")\n",
    "except Exception as e:\n",
    "    print(\"An unexpected error occurred in the outer try block:\", e)\n",
    "else:\n",
    "    print(\"Outer try block executed successfully.\")\n"
   ]
  },
  {
   "cell_type": "code",
   "execution_count": null,
   "id": "c6cbafdd",
   "metadata": {},
   "outputs": [],
   "source": [
    "6. Can we use multiple exception blocks, if yes then give an example. \n",
    "Ans:"
   ]
  },
  {
   "cell_type": "code",
   "execution_count": null,
   "id": "b0d8f471",
   "metadata": {},
   "outputs": [],
   "source": [
    "try:\n",
    "    num1 = int(input(\"Enter the numerator: \"))\n",
    "    num2 = int(input(\"Enter the denominator: \"))\n",
    "    \n",
    "    result = num1 / num2\n",
    "\n",
    "except ValueError:\n",
    "    print(\"Invalid input. Please enter integers for the numerator and denominator.\")\n",
    "\n",
    "except ZeroDivisionError:\n",
    "    print(\"Cannot divide by zero. Please enter a non-zero denominator.\")\n",
    "\n",
    "except Exception as e:\n",
    "    print(\"An unexpected error occurred:\", e)\n",
    "\n",
    "else:\n",
    "    print(\"Result of division:\", result)\n"
   ]
  },
  {
   "cell_type": "code",
   "execution_count": null,
   "id": "2bf4bafb",
   "metadata": {},
   "outputs": [],
   "source": [
    "7. Write the reason due to which following errors are raised:\n",
    "a. EOFError\n",
    "b. FloatingPointError\n",
    "c. IndexError\n",
    "d. MemoryError\n",
    "e. OverflowError\n",
    "f. TabError\n",
    "g. ValueError\n",
    "Ans:\n",
    "    a. EOFError:\n",
    "\n",
    "Reason: Raised when the input() function hits an end-of-file condition (EOF) without receiving any data.\n",
    "b. FloatingPointError:\n",
    "\n",
    "Reason: Raised when a floating-point operation (e.g., division by zero) results in an undefined or infinite value.\n",
    "c. IndexError:\n",
    "\n",
    "Reason: Raised when an index is out of range for a sequence (e.g., list, tuple, string).\n",
    "d. MemoryError:\n",
    "\n",
    "Reason: Raised when an operation runs out of memory.\n",
    "e. OverflowError:\n",
    "\n",
    "Reason: Raised when the result of an arithmetic operation is too large to be represented within the limits of the data type.\n",
    "f. TabError:\n",
    "\n",
    "Reason: Raised when indentation contains inconsistent tabs and spaces, especially when mixing tabs and spaces within the same block.\n",
    "g. ValueError:\n",
    "\n",
    "Reason: Raised when a function receives an argument of the correct type but an inappropriate value, or when an operation is performed with an inappropriate value."
   ]
  },
  {
   "cell_type": "code",
   "execution_count": null,
   "id": "db428ecd",
   "metadata": {},
   "outputs": [],
   "source": [
    "8. Write code for the following given scenario and add try-exception block to it.\n",
    "a. Program to divide two numbers\n",
    "b. Program to convert a string to an integer\n",
    "c. Program to access an element in a list\n",
    "d. Program to handle a specific exception\n",
    "e. Program to handle any exception\n",
    "Ans:"
   ]
  },
  {
   "cell_type": "code",
   "execution_count": null,
   "id": "b45183b3",
   "metadata": {},
   "outputs": [],
   "source": [
    "#. Program to divide two numbers:\n",
    "try:\n",
    "    numerator = int(input(\"Enter the numerator: \"))\n",
    "    denominator = int(input(\"Enter the denominator: \"))\n",
    "    result = numerator / denominator\n",
    "    print(\"Result of division:\", result)\n",
    "except ZeroDivisionError:\n",
    "    print(\"Error: Cannot divide by zero.\")\n",
    "except ValueError:\n",
    "    print(\"Error: Please enter valid integers.\")\n",
    "except Exception as e:\n",
    "    print(\"An unexpected error occurred:\", e)\n",
    "    \n",
    "\n",
    "#Program to convert a string to an integer:    \n",
    "try:\n",
    "    num_str = input(\"Enter an integer: \")\n",
    "    num = int(num_str)\n",
    "    print(\"Converted integer:\", num)\n",
    "except ValueError:\n",
    "    print(\"Error: Invalid input. Please enter a valid integer.\")\n",
    "except Exception as e:\n",
    "    print(\"An unexpected error occurred:\", e)\n",
    "\n",
    "#. Program to access an element in a list:\n",
    "try:\n",
    "    my_list = [1, 2, 3, 4, 5]\n",
    "    index = int(input(\"Enter the index to access: \"))\n",
    "    value = my_list[index]\n",
    "    print(\"Value at index\", index, \":\", value)\n",
    "except IndexError:\n",
    "    print(\"Error: Index out of range.\")\n",
    "except ValueError:\n",
    "    print(\"Error: Please enter a valid integer for the index.\")\n",
    "except Exception as e:\n",
    "    print(\"An unexpected error occurred:\", e)\n",
    "\n",
    "    \n",
    " # Program to handle a specific exception:   \n",
    " try:\n",
    "    # Code that may raise a specific exception\n",
    "    pass\n",
    "except SpecificExceptionType as e:\n",
    "    print(\"Handling the specific exception:\", e)\n",
    "except Exception as e:\n",
    "    print(\"An unexpected error occurred:\", e)\n",
    "\n",
    "    \n",
    "#Program to handle any exception:\n",
    "try:\n",
    "    # Code that may raise an exception\n",
    "    pass\n",
    "except Exception as e:\n",
    "    print(\"An exception occurred:\", e)\n"
   ]
  },
  {
   "cell_type": "code",
   "execution_count": null,
   "id": "f2c454e6",
   "metadata": {},
   "outputs": [],
   "source": []
  }
 ],
 "metadata": {
  "kernelspec": {
   "display_name": "Python 3 (ipykernel)",
   "language": "python",
   "name": "python3"
  },
  "language_info": {
   "codemirror_mode": {
    "name": "ipython",
    "version": 3
   },
   "file_extension": ".py",
   "mimetype": "text/x-python",
   "name": "python",
   "nbconvert_exporter": "python",
   "pygments_lexer": "ipython3",
   "version": "3.11.3"
  }
 },
 "nbformat": 4,
 "nbformat_minor": 5
}
