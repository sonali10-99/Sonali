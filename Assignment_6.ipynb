{
 "cells": [
  {
   "cell_type": "code",
   "execution_count": null,
   "id": "202e5a26",
   "metadata": {},
   "outputs": [],
   "source": [
    "1. What are keywords in python? Using the keyword library, print all the python keywords.\n",
    "Ans:"
   ]
  },
  {
   "cell_type": "code",
   "execution_count": 1,
   "id": "abe2f072",
   "metadata": {},
   "outputs": [
    {
     "name": "stdout",
     "output_type": "stream",
     "text": [
      "Python Keywords:\n",
      "False\n",
      "None\n",
      "True\n",
      "and\n",
      "as\n",
      "assert\n",
      "async\n",
      "await\n",
      "break\n",
      "class\n",
      "continue\n",
      "def\n",
      "del\n",
      "elif\n",
      "else\n",
      "except\n",
      "finally\n",
      "for\n",
      "from\n",
      "global\n",
      "if\n",
      "import\n",
      "in\n",
      "is\n",
      "lambda\n",
      "nonlocal\n",
      "not\n",
      "or\n",
      "pass\n",
      "raise\n",
      "return\n",
      "try\n",
      "while\n",
      "with\n",
      "yield\n"
     ]
    }
   ],
   "source": [
    "import keyword\n",
    "\n",
    "# Get the list of Python keywords\n",
    "keywords_list = keyword.kwlist\n",
    "\n",
    "# Print the list of keywords\n",
    "print(\"Python Keywords:\")\n",
    "for keyword in keywords_list:\n",
    "    print(keyword)\n"
   ]
  },
  {
   "cell_type": "code",
   "execution_count": null,
   "id": "029bc2e8",
   "metadata": {},
   "outputs": [],
   "source": [
    "2. What are the rules to create variables in python?\n",
    "Ans:"
   ]
  },
  {
   "cell_type": "code",
   "execution_count": 5,
   "id": "24118b38",
   "metadata": {},
   "outputs": [
    {
     "ename": "SyntaxError",
     "evalue": "invalid decimal literal (3671720656.py, line 7)",
     "output_type": "error",
     "traceback": [
      "\u001b[1;36m  Cell \u001b[1;32mIn[5], line 7\u001b[1;36m\u001b[0m\n\u001b[1;33m    2variable = \"Invalid\"  # starts with a number\u001b[0m\n\u001b[1;37m    ^\u001b[0m\n\u001b[1;31mSyntaxError\u001b[0m\u001b[1;31m:\u001b[0m invalid decimal literal\n"
     ]
    }
   ],
   "source": [
    "# Valid variable names\n",
    "my_variable = 42\n",
    "myVar = \"Hello\"\n",
    "_my_variable = [1, 2, 3]\n",
    "\n",
    "# Invalid variable names\n",
    "2nd_variable = \"Invalid\"  # starts with a number\n",
    "my-variable = 3.14        # contains invalid character \"-\"\n"
   ]
  },
  {
   "cell_type": "code",
   "execution_count": null,
   "id": "cda42e64",
   "metadata": {},
   "outputs": [],
   "source": [
    "3. What are the standards and conventions followed for the nomenclature of variables in\n",
    "python to improve code readability and maintainability?\n",
    "Ans:#Use descriptive names:\n",
    "\n",
    "Choose variable names that convey the purpose or meaning of the variable.\n",
    "Good: total_price, user_age\n",
    "Avoid: x, temp\n",
    "Use snake_case:\n",
    "\n",
    "Separate words in variable names with underscores.\n",
    "Good: user_name, max_value\n",
    "Avoid: camelCase, PascalCase\n",
    "Avoid single-letter names except for counters or iterators:\n",
    "\n",
    "It's generally better to have descriptive names.\n",
    "Good: index, counter\n",
    "Avoid: i, x\n",
    "Constants should be in ALL_CAPS:\n",
    "\n",
    "Use uppercase letters with underscores to separate words for constants.\n",
    "Good: MAX_SIZE, PI\n",
    "Avoid: maxsize, pi\n",
    "Be consistent:\n",
    "\n",
    "Follow a consistent naming style throughout your codebase.\n",
    "If you're working on an existing project, follow the naming conventions used in that project.\n",
    "Use meaningful prefixes for variable names in specific contexts:\n",
    "\n",
    "For example, prefix variables with the type of data they contain, like str_name or list_values. This is especially helpful in larger codebases."
   ]
  },
  {
   "cell_type": "code",
   "execution_count": 6,
   "id": "4b8e7649",
   "metadata": {},
   "outputs": [],
   "source": [
    "# Good variable names\n",
    "total_price = 100.50\n",
    "user_age = 25\n",
    "max_attempts = 3\n",
    "\n",
    "# Constants\n",
    "MAX_SIZE = 1024\n",
    "PI = 3.14\n",
    "\n",
    "# Meaningful prefixes\n",
    "str_name = \"John\"\n",
    "list_values = [1, 2, 3]\n"
   ]
  },
  {
   "cell_type": "code",
   "execution_count": null,
   "id": "61f2d5ee",
   "metadata": {},
   "outputs": [],
   "source": [
    "4. What will happen if a keyword is used as a variable name?\n",
    "Ans:"
   ]
  },
  {
   "cell_type": "code",
   "execution_count": 7,
   "id": "c25a5fd4",
   "metadata": {},
   "outputs": [
    {
     "ename": "SyntaxError",
     "evalue": "invalid syntax (2252932346.py, line 1)",
     "output_type": "error",
     "traceback": [
      "\u001b[1;36m  Cell \u001b[1;32mIn[7], line 1\u001b[1;36m\u001b[0m\n\u001b[1;33m    if = 10  # This will result in a SyntaxError\u001b[0m\n\u001b[1;37m       ^\u001b[0m\n\u001b[1;31mSyntaxError\u001b[0m\u001b[1;31m:\u001b[0m invalid syntax\n"
     ]
    }
   ],
   "source": [
    "if = 10  # This will result in a SyntaxError\n"
   ]
  },
  {
   "cell_type": "code",
   "execution_count": null,
   "id": "e780363e",
   "metadata": {},
   "outputs": [],
   "source": [
    "5. For what purpose def keyword is used?\n",
    "Ans:"
   ]
  },
  {
   "cell_type": "code",
   "execution_count": 8,
   "id": "0148b02b",
   "metadata": {},
   "outputs": [
    {
     "name": "stdout",
     "output_type": "stream",
     "text": [
      "Hello, John!\n"
     ]
    }
   ],
   "source": [
    "def greet(name):\n",
    "    \"\"\"This function greets the person passed in as a parameter.\"\"\"\n",
    "    print(f\"Hello, {name}!\")\n",
    "\n",
    "# Calling the function\n",
    "greet(\"John\")\n"
   ]
  },
  {
   "cell_type": "code",
   "execution_count": null,
   "id": "3af39a31",
   "metadata": {},
   "outputs": [],
   "source": [
    "6. What is the operation of this special character ‘\\’?\n",
    "Ans:"
   ]
  },
  {
   "cell_type": "code",
   "execution_count": 12,
   "id": "c7d2739c",
   "metadata": {},
   "outputs": [
    {
     "name": "stdout",
     "output_type": "stream",
     "text": [
      "This is a newline\n",
      "and this is on a new line.\n",
      "This is a raw string with \\n new line.\n"
     ]
    }
   ],
   "source": [
    "#Escape Sequences:\n",
    "print(\"This is a newline\\nand this is on a new line.\")\n",
    "\n",
    "#Continuation Lines:\n",
    "long_string = \"This is a very long string that \\\n",
    "               spans multiple lines for better readability.\"\n",
    "\n",
    "#Raw Strings\n",
    "raw_string = r\"This is a raw string with \\n new line.\"\n",
    "print(raw_string)\n",
    "\n",
    "#Unicode Escape:\n",
    "unicode_char = \"\\u03B1\"  # Represents the Greek letter alpha\n"
   ]
  },
  {
   "cell_type": "code",
   "execution_count": null,
   "id": "175d81de",
   "metadata": {},
   "outputs": [],
   "source": [
    "7. Give an example of the following conditions:\n",
    "(i) Homogeneous list\n",
    "(ii) Heterogeneous set\n",
    "(iii) Homogeneous tuple\n",
    "Ans:"
   ]
  },
  {
   "cell_type": "code",
   "execution_count": 13,
   "id": "90910b5c",
   "metadata": {},
   "outputs": [
    {
     "ename": "SyntaxError",
     "evalue": "invalid syntax (3773049808.py, line 21)",
     "output_type": "error",
     "traceback": [
      "\u001b[1;36m  Cell \u001b[1;32mIn[13], line 21\u001b[1;36m\u001b[0m\n\u001b[1;33m    str_tuple =\u001b[0m\n\u001b[1;37m               ^\u001b[0m\n\u001b[1;31mSyntaxError\u001b[0m\u001b[1;31m:\u001b[0m invalid syntax\n"
     ]
    }
   ],
   "source": [
    "#(i) Homogeneous List:\n",
    "# Homogeneous List of Integers\n",
    "int_list = [1, 2, 3, 4, 5]\n",
    "\n",
    "# Homogeneous List of Strings\n",
    "str_list = [\"apple\", \"banana\", \"cherry\", \"date\"]\n",
    "\n",
    "\n",
    "#(ii) Heterogeneous Set:\n",
    "# Heterogeneous Set\n",
    "mixed_set = {1, \"apple\", 3.14, (1, 2, 3)}\n",
    "\n",
    "# Elements include an integer, a string, a float, and a tuple\n",
    "\n",
    "\n",
    "#(iii) Homogeneous Tuple:\n",
    "# Homogeneous Tuple of Integers\n",
    "int_tuple = (1, 2, 3, 4, 5)\n",
    "\n",
    "# Homogeneous Tuple of Strings\n",
    "str_tuple =\n"
   ]
  },
  {
   "cell_type": "code",
   "execution_count": null,
   "id": "221a95db",
   "metadata": {},
   "outputs": [],
   "source": [
    "8. Explain the mutable and immutable data types with proper explanation & examples.\n",
    "Ans:\n",
    "#Mutable Data Types:\n",
    "Definition: Mutable data types are objects whose values can be changed after they are created.\n",
    "Examples: Lists, Dictionaries, Sets\n",
    "    \n",
    " ##Immutable Data Types:\n",
    "Definition: Immutable data types are objects whose values cannot be changed after they are created.\n",
    "Examples: Integers, Floats, Strings, Tuples"
   ]
  },
  {
   "cell_type": "code",
   "execution_count": 14,
   "id": "98aab75e",
   "metadata": {},
   "outputs": [
    {
     "name": "stdout",
     "output_type": "stream",
     "text": [
      "[100, 2, 3]\n",
      "{'a': 10, 'b': 2}\n"
     ]
    }
   ],
   "source": [
    "# Mutable List\n",
    "mutable_list = [1, 2, 3]\n",
    "mutable_list[0] = 100\n",
    "print(mutable_list)  \n",
    "\n",
    "# Mutable Dictionary\n",
    "mutable_dict = {'a': 1, 'b': 2}\n",
    "mutable_dict['a'] = 10\n",
    "print(mutable_dict) \n",
    "\n",
    "\n",
    "## Immutable Integer\n",
    "immutable_int = 42\n",
    "# The following will result in an error:\n",
    "# immutable_int = 100  # TypeError: 'int' object does not support item assignment\n",
    "\n",
    "# Immutable String\n",
    "immutable_str = \"Hello\"\n",
    "# The following will result in an error:\n",
    "# immutable_str[0] = 'h'  # TypeError: 'str' object does not support item assignment\n",
    "\n",
    "# Immutable Tuple\n",
    "immutable_tuple = (1, 2, 3)\n",
    "# The following will result in an error:\n",
    "# immutable_tuple[0] = 100  # TypeError: 'tuple' object does not support item assignment\n"
   ]
  },
  {
   "cell_type": "code",
   "execution_count": null,
   "id": "7a952b75",
   "metadata": {},
   "outputs": [],
   "source": [
    ".9. Write a code to create the given structure using only for loop.\n",
    "*\n",
    "***\n",
    "*****\n",
    "*******\n",
    "*********\n",
    "Ans:"
   ]
  },
  {
   "cell_type": "code",
   "execution_count": 15,
   "id": "9feb3fd3",
   "metadata": {},
   "outputs": [
    {
     "name": "stdout",
     "output_type": "stream",
     "text": [
      "*\n",
      "***\n",
      "*****\n",
      "*******\n",
      "*********\n"
     ]
    }
   ],
   "source": [
    "# Number of rows in the structure\n",
    "num_rows = 5\n",
    "\n",
    "# Outer loop for each row\n",
    "for i in range(num_rows):\n",
    "    # Inner loop for printing asterisks in each row\n",
    "    for j in range(2*i + 1):\n",
    "        print(\"*\", end=\"\")\n",
    "    # Move to the next line after printing the asterisks in each row\n",
    "    print()\n"
   ]
  },
  {
   "cell_type": "code",
   "execution_count": null,
   "id": "ce51ff7c",
   "metadata": {},
   "outputs": [],
   "source": [
    "10. Write a code to create the given structure using while loop.\n",
    "|||||||||\n",
    "|||||||\n",
    "|||||\n",
    "|||\n",
    "|\n",
    "Ans:"
   ]
  },
  {
   "cell_type": "code",
   "execution_count": 16,
   "id": "49b7e0d8",
   "metadata": {},
   "outputs": [
    {
     "name": "stdout",
     "output_type": "stream",
     "text": [
      "|||||\n",
      "||||\n",
      "|||\n",
      "||\n",
      "|\n"
     ]
    }
   ],
   "source": [
    "# Number of rows in the structure\n",
    "num_rows = 5\n",
    "\n",
    "# Initial value for the outer loop\n",
    "i = num_rows\n",
    "\n",
    "# Outer loop for each row\n",
    "while i >= 1:\n",
    "    # Inner loop for printing pipes in each row\n",
    "    j = 1\n",
    "    while j <= i:\n",
    "        print(\"|\", end=\"\")\n",
    "        j += 1\n",
    "    \n",
    "    # Move to the next line after printing the pipes in each row\n",
    "    print()\n",
    "    \n",
    "    # Decrement the row count\n",
    "    i -= 1\n"
   ]
  },
  {
   "cell_type": "code",
   "execution_count": null,
   "id": "3f76b113",
   "metadata": {},
   "outputs": [],
   "source": []
  }
 ],
 "metadata": {
  "kernelspec": {
   "display_name": "Python 3 (ipykernel)",
   "language": "python",
   "name": "python3"
  },
  "language_info": {
   "codemirror_mode": {
    "name": "ipython",
    "version": 3
   },
   "file_extension": ".py",
   "mimetype": "text/x-python",
   "name": "python",
   "nbconvert_exporter": "python",
   "pygments_lexer": "ipython3",
   "version": "3.11.3"
  }
 },
 "nbformat": 4,
 "nbformat_minor": 5
}
