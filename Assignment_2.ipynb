{
 "cells": [
  {
   "cell_type": "code",
   "execution_count": null,
   "id": "6d2af1e4",
   "metadata": {},
   "outputs": [],
   "source": [
    "1.What are the two values of the Boolean data type? How do you write them?\n",
    "Ans :The two values of the Boolean data type are True and False. They are typically written in programming languages as `True` and `False`, respectively."
   ]
  },
  {
   "cell_type": "code",
   "execution_count": null,
   "id": "7d3b1e46",
   "metadata": {},
   "outputs": [],
   "source": [
    "2.What are the three different types of Boolean operators?\n",
    "Ans:The three different types of Boolean operators are AND, OR, and NOT."
   ]
  },
  {
   "cell_type": "code",
   "execution_count": null,
   "id": "60bc302b",
   "metadata": {},
   "outputs": [],
   "source": [
    "3.Make a list of each Boolean operator&#39;s truth tables (i.e. every possible combination of Boolean\n",
    "values for the operator and what it evaluate ).\n",
    "Ans:Certainly! Here are the truth tables for the three basic Boolean operators:\n",
    "\n",
    "1. AND Operator (&&):\n",
    "\n",
    "| A     | B     | A && B |\n",
    "|-------|-------|--------|\n",
    "| False | False | False  |\n",
    "| False | True  | False  |\n",
    "| True  | False | False  |\n",
    "| True  | True  | True   |\n",
    "\n",
    "2. OR Operator (||):\n",
    "\n",
    "| A     | B     | A \\|\\| B |\n",
    "|-------|-------|----------|\n",
    "| False | False | False    |\n",
    "| False | True  | True     |\n",
    "| True  | False | True     |\n",
    "| True  | True  | True     |\n",
    "\n",
    "3.NOT Operator (!):\n",
    "\n",
    "| A     | !A    |\n",
    "|-------|-------|\n",
    "| False | True  |\n",
    "| True  | False |"
   ]
  },
  {
   "cell_type": "code",
   "execution_count": null,
   "id": "fa0e351a",
   "metadata": {},
   "outputs": [],
   "source": [
    "4. What are the values of the following expressions?\n",
    "(5 &gt; 4) and (3 == 5)\n",
    "not (5 &gt; 4)\n",
    "(5 &gt; 4) or (3 == 5)\n",
    "not ((5 &gt; 4) or (3 == 5))\n",
    "(True and True) and (True == False)\n",
    "(not False) or (not True)\n",
    "Ans :Let's evaluate each expression:\n",
    "\n",
    "1. (5 > 4) and (3 == 5)\n",
    "   - True and False\n",
    "   - Result: False\n",
    "\n",
    "2. not (5 > 4)\n",
    "   - not True\n",
    "   - Result: False\n",
    "\n",
    "3. (5 > 4) or (3 == 5)\n",
    "   - True or False\n",
    "   - Result: True\n",
    "\n",
    "4. not ((5 > 4) or (3 == 5))\n",
    "   - not (True or False)\n",
    "   - not True\n",
    "   - Result: False\n",
    "\n",
    "5. (True and True) and (True == False)\n",
    "   - True and False\n",
    "   - Result: False\n",
    "\n",
    "6. (not False) or (not True)\n",
    "   - True or False\n",
    "   - Result: True"
   ]
  },
  {
   "cell_type": "code",
   "execution_count": null,
   "id": "a9fe812f",
   "metadata": {},
   "outputs": [],
   "source": [
    "5.What are the six comparison operators?\n",
    "Ans :The six comparison operators are:\n",
    "\n",
    "1. Equal to (==)\n",
    "2. Not equal to (!=)\n",
    "3. Greater than (>)\n",
    "4. Less than (<)\n",
    "5. Greater than or equal to (>=)\n",
    "6. Less than or equal to (<=)"
   ]
  },
  {
   "cell_type": "code",
   "execution_count": null,
   "id": "0cfa919b",
   "metadata": {},
   "outputs": [],
   "source": [
    "6.How do you tell the difference between the equal to and assignment operators?Describe a\n",
    "condition and when you would use one.\n",
    "Ans:The equal to operator is `==`, used for comparison. The assignment operator is `=`, used for assigning values.\n",
    "\n",
    "Condition: If you want to check if two values are equal.\n",
    "- Use equal to operator (`==`): Example - `if x == y:`\n",
    "\n",
    "Condition: If you want to assign a value to a variable.\n",
    "- Use assignment operator (`=`): Example - `x = 5` assigns the value 5 to variable x."
   ]
  },
  {
   "cell_type": "code",
   "execution_count": 5,
   "id": "aed04edc",
   "metadata": {},
   "outputs": [
    {
     "name": "stdout",
     "output_type": "stream",
     "text": [
      "ham\n",
      "spam\n",
      "spam\n"
     ]
    }
   ],
   "source": [
    "#7.Identify the three blocks in this code:\n",
    "spam = 0\n",
    "if spam == 10:\n",
    "    print('eggs')\n",
    "if spam > 5:\n",
    "    print('bacon')\n",
    "else:\n",
    "    print('ham')\n",
    "print('spam')\n",
    "print('spam')"
   ]
  },
  {
   "cell_type": "code",
   "execution_count": 6,
   "id": "99330be8",
   "metadata": {},
   "outputs": [
    {
     "name": "stdout",
     "output_type": "stream",
     "text": [
      "ham\n",
      "spam\n",
      "spam\n"
     ]
    }
   ],
   "source": [
    "spam = 0\n",
    "\n",
    "if spam == 10:\n",
    "    print('eggs')  # Block 1\n",
    "\n",
    "if spam > 5:\n",
    "    print('bacon')  # Block 2\n",
    "else:\n",
    "    print('ham')  # Block 3\n",
    "\n",
    "print('spam')\n",
    "print('spam')\n"
   ]
  },
  {
   "cell_type": "code",
   "execution_count": 7,
   "id": "1f288a1c",
   "metadata": {},
   "outputs": [
    {
     "ename": "SyntaxError",
     "evalue": "invalid syntax (631602435.py, line 2)",
     "output_type": "error",
     "traceback": [
      "\u001b[1;36m  Cell \u001b[1;32mIn[7], line 2\u001b[1;36m\u001b[0m\n\u001b[1;33m    Greetings! if anything else is stored in spam.\u001b[0m\n\u001b[1;37m             ^\u001b[0m\n\u001b[1;31mSyntaxError\u001b[0m\u001b[1;31m:\u001b[0m invalid syntax\n"
     ]
    }
   ],
   "source": [
    "8. Write code that prints Hello if 1 is stored in spam, prints Howdy if 2 is stored in spam, and prints\n",
    "Greetings! if anything else is stored in spam.\n",
    "Ans:"
   ]
  },
  {
   "cell_type": "code",
   "execution_count": 9,
   "id": "a172acb7",
   "metadata": {},
   "outputs": [
    {
     "name": "stdout",
     "output_type": "stream",
     "text": [
      "Greetings!\n"
     ]
    }
   ],
   "source": [
    "#spam =  # Assign the desired value to spam\n",
    "\n",
    "if spam == 1:\n",
    "    print('Hello')\n",
    "elif spam == 2:\n",
    "    print('Howdy')\n",
    "else:\n",
    "    print('Greetings!')\n"
   ]
  },
  {
   "cell_type": "code",
   "execution_count": null,
   "id": "ac4211d8",
   "metadata": {},
   "outputs": [],
   "source": [
    "9.If your programme is stuck in an endless loop, what keys you’ll press? \n",
    "Ans:If your program is stuck in an endless loop and you need to interrupt it, you can typically press **Ctrl + C** (Control key and C key simultaneously) to break out of the loop. This keyboard shortcut sends an interrupt signal to the running process, allowing you to stop the program manually. Keep in mind that the specific key combination might vary slightly depending on the operating system and the development environment you are using."
   ]
  },
  {
   "cell_type": "code",
   "execution_count": null,
   "id": "ce003425",
   "metadata": {},
   "outputs": [],
   "source": [
    "10.How can you tell the difference between break and continue?\n",
    "Ans:Break (break): This statement is used to exit the loop prematurely, regardless of the loop's conditional expression. It terminates the entire loop and continues with the next statement after the loop.\n",
    "\n",
    "Shortcut: No specific shortcut is used. You place the break statement where you want to exit the loop.\n",
    "\n",
    "Continue (continue): This statement is used to skip the rest of the code inside the loop for the current iteration and move on to the next iteration of the loop.\n",
    "\n",
    "Shortcut: No specific shortcut is used. You place the continue statement where you want to skip the remaining code for the current iteration."
   ]
  },
  {
   "cell_type": "code",
   "execution_count": null,
   "id": "fea17ca9",
   "metadata": {},
   "outputs": [],
   "source": [
    "11. In a for loop, what is the difference between range(10), range(0, 10), and range(0, 10, 1)?\n",
    "Ans:In a `for` loop, `range(10)`, `range(0, 10)`, and `range(0, 10, 1)` essentially generate the same sequence of numbers from 0 to 9. However, there are some differences in how they are specified:\n",
    "\n",
    "- **`range(10)`**: This indicates a range that starts from 0 (the default starting point) and goes up to, but does not include, the specified end value (10 in this case). It implicitly assumes a step size of 1.\n",
    "\n",
    "- **`range(0, 10)`**: This is explicitly stating the start and end values of the range, but it still assumes a step size of 1. It is equivalent to `range(10)`.\n",
    "\n",
    "- **`range(0, 10, 1)`**: This is explicitly specifying the start, end, and step size. Again, it generates the same sequence of numbers from 0 to 9 with a step size of 1, but the step size is explicitly mentioned.\n",
    "\n",
    "In short, all three expressions produce the same result in terms of the generated sequence of numbers for a `for` loop iterating over them. The differences lie in the explicitness of specifying start, end, and step values."
   ]
  },
  {
   "cell_type": "code",
   "execution_count": null,
   "id": "adadfab0",
   "metadata": {},
   "outputs": [],
   "source": [
    "12. Write a short program that prints the numbers 1 to 10 using a for loop. Then write an equivalent\n",
    "program that prints the numbers 1 to 10 using a while loop.\n",
    "Ans:"
   ]
  },
  {
   "cell_type": "code",
   "execution_count": 10,
   "id": "a565c481",
   "metadata": {},
   "outputs": [
    {
     "name": "stdout",
     "output_type": "stream",
     "text": [
      "1\n",
      "2\n",
      "3\n",
      "4\n",
      "5\n",
      "6\n",
      "7\n",
      "8\n",
      "9\n",
      "10\n"
     ]
    }
   ],
   "source": [
    "# Using a for loop\n",
    "for num in range(1, 11):\n",
    "    print(num)\n"
   ]
  },
  {
   "cell_type": "code",
   "execution_count": null,
   "id": "705dfd39",
   "metadata": {},
   "outputs": [],
   "source": [
    "13.If you had a function named bacon() inside a module named spam, how would you call it after\n",
    "importing spam?\n",
    "Ans:"
   ]
  },
  {
   "cell_type": "code",
   "execution_count": 12,
   "id": "dfe750a1",
   "metadata": {},
   "outputs": [
    {
     "ename": "SyntaxError",
     "evalue": "invalid syntax (3697323407.py, line 1)",
     "output_type": "error",
     "traceback": [
      "\u001b[1;36m  Cell \u001b[1;32mIn[12], line 1\u001b[1;36m\u001b[0m\n\u001b[1;33m    If you have a function named `bacon()` inside a module named `spam`, and you want to call it after importing the `spam` module, you can use the following syntax:\u001b[0m\n\u001b[1;37m       ^\u001b[0m\n\u001b[1;31mSyntaxError\u001b[0m\u001b[1;31m:\u001b[0m invalid syntax\n"
     ]
    }
   ],
   "source": [
    "If you have a function named `bacon()` inside a module named `spam`, and you want to call it after importing the `spam` module, you can use the following syntax:\n",
    "\n",
    "```python\n",
    "import spam\n",
    "\n",
    "# Call the bacon() function from the spam module\n",
    "spam.bacon()\n",
    "```\n",
    "\n",
    "Here, `import spam` imports the `spam` module, and then you can access the `bacon()` function using the syntax `spam.bacon()`. This assumes that the `bacon()` function is defined within the `spam` module.\n"
   ]
  },
  {
   "cell_type": "code",
   "execution_count": null,
   "id": "da5e98f8",
   "metadata": {},
   "outputs": [],
   "source": []
  }
 ],
 "metadata": {
  "kernelspec": {
   "display_name": "Python 3 (ipykernel)",
   "language": "python",
   "name": "python3"
  },
  "language_info": {
   "codemirror_mode": {
    "name": "ipython",
    "version": 3
   },
   "file_extension": ".py",
   "mimetype": "text/x-python",
   "name": "python",
   "nbconvert_exporter": "python",
   "pygments_lexer": "ipython3",
   "version": "3.11.3"
  }
 },
 "nbformat": 4,
 "nbformat_minor": 5
}
