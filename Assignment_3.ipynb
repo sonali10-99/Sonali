{
 "cells": [
  {
   "cell_type": "code",
   "execution_count": null,
   "id": "6e4476e9",
   "metadata": {},
   "outputs": [],
   "source": [
    "1. Why are functions advantageous to have in your programs?\n",
    "Ans:\n",
    "Functions in programming provide several advantages:\n",
    "\n",
    "1. **Modularity:** Functions allow you to break down a program into smaller, more manageable pieces. This modular approach makes code more organized and easier to understand, maintain, and debug.\n",
    "\n",
    "2. **Reuse:** Once you've defined a function, you can use it multiple times in your program without rewriting the same code. This promotes code reuse, saving time and effort.\n",
    "\n",
    "3. **Abstraction:** Functions allow you to hide the implementation details and provide a simple interface. This abstraction makes it easier to use and understand complex systems by interacting with high-level functions without needing to know their internal workings.\n",
    "\n",
    "4. **Readability:** Breaking code into functions improves code readability. Well-named functions make the purpose of each part of your program clear, enhancing collaboration and maintenance.\n",
    "\n",
    "5. **Testing and Debugging:** Functions make it easier to isolate and test specific parts of your code. This isolation simplifies the process of finding and fixing bugs.\n",
    "\n",
    "6. **Scoping:** Functions introduce local scopes, limiting the visibility of variables. This helps prevent naming conflicts and unintended side effects.\n",
    "\n",
    "7. **Parameterization:** Functions can accept parameters, making them flexible and adaptable to different situations. This parameterization enhances the versatility of your code.\n",
    "\n",
    "In summary, functions contribute to code organization, reusability, abstraction, readability, testing, scoping, and parameterization, making them a crucial and advantageous feature in programming."
   ]
  },
  {
   "cell_type": "code",
   "execution_count": null,
   "id": "7451f340",
   "metadata": {},
   "outputs": [],
   "source": [
    "2. When does the code in a function run: when its specified or when its called?\n",
    "Ans:The code in a function runs when the function is called, not when it is specified or defined."
   ]
  },
  {
   "cell_type": "code",
   "execution_count": null,
   "id": "738461ca",
   "metadata": {},
   "outputs": [],
   "source": [
    "3. What statement creates a function?\n",
    "Ans:The `def` statement creates a function in many programming languages, including Python."
   ]
  },
  {
   "cell_type": "code",
   "execution_count": null,
   "id": "80a52e76",
   "metadata": {},
   "outputs": [],
   "source": [
    "4. What is the difference between a function and a function call?\n",
    "Ans:A function is a block of code that performs a specific task, while a function call is the actual invocation or execution of that function to perform its defined task."
   ]
  },
  {
   "cell_type": "code",
   "execution_count": null,
   "id": "d59a8672",
   "metadata": {},
   "outputs": [],
   "source": [
    "5. How many global scopes are there in a Python program? How many local scopes?\n",
    "Ans:A Python program has one global scope, and local scopes can be multiple, depending on the number of functions or blocks that define them."
   ]
  },
  {
   "cell_type": "code",
   "execution_count": null,
   "id": "232c6525",
   "metadata": {},
   "outputs": [],
   "source": [
    "6. What happens to variables in a local scope when the function call returns?\n",
    "Ans:Variables in a local scope are typically destroyed or deallocated when the function call returns. They are only accessible within the scope of the function and cease to exist once the function execution is completed."
   ]
  },
  {
   "cell_type": "code",
   "execution_count": null,
   "id": "b95d28d7",
   "metadata": {},
   "outputs": [],
   "source": [
    "7. What is the concept of a return value? Is it possible to have a return value in an expression?\n",
    "Ans: A return value is the value that a function provides back to the caller after its execution. It represents the result of the function's computation.\n",
    "\n",
    "Yes, it is possible to use a return value in an expression. When a function call is used within an expression, the return value of the function becomes part of that expression. For example:\n",
    "\n",
    "```python\n",
    "result = function_name() + 5\n",
    "```\n",
    "\n",
    "Here, the return value of `function_name()` is used in an expression where it is added to 5 and assigned to the variable `result`."
   ]
  },
  {
   "cell_type": "code",
   "execution_count": null,
   "id": "003d7988",
   "metadata": {},
   "outputs": [],
   "source": [
    "8. If a function does not have a return statement, what is the return value of a call to that function?\n",
    "Ans:If a function does not have a return statement, the return value of a call to that function is `None` in Python."
   ]
  },
  {
   "cell_type": "code",
   "execution_count": null,
   "id": "bb5ae408",
   "metadata": {},
   "outputs": [],
   "source": [
    "9. How do you make a function variable refer to the global variable?\n",
    "Ans:"
   ]
  },
  {
   "cell_type": "code",
   "execution_count": 1,
   "id": "959ef770",
   "metadata": {},
   "outputs": [
    {
     "name": "stdout",
     "output_type": "stream",
     "text": [
      "15\n"
     ]
    }
   ],
   "source": [
    "global_variable = 10\n",
    "\n",
    "def my_function():\n",
    "    global global_variable\n",
    "    global_variable += 5\n",
    "    print(global_variable)\n",
    "\n",
    "my_function()\n"
   ]
  },
  {
   "cell_type": "code",
   "execution_count": null,
   "id": "7d783ec5",
   "metadata": {},
   "outputs": [],
   "source": [
    "10. What is the data type of None?\n",
    "AThe data type of `None` in Python is `NoneType`.ns:"
   ]
  },
  {
   "cell_type": "code",
   "execution_count": null,
   "id": "8a09e90c",
   "metadata": {},
   "outputs": [],
   "source": [
    "11. What does the sentence import areallyourpetsnamederic do?\n",
    "Ans:The sentence \"import areallyourpetsnamederic\" is not a standard or valid Python import statement, and it would result in a `ModuleNotFoundError` because there is no Python module named \"areallyourpetsnamederic.\" In Python, import statements are used to bring in modules or packages, and the module or package must exist for the import to be successful."
   ]
  },
  {
   "cell_type": "code",
   "execution_count": null,
   "id": "2b106037",
   "metadata": {},
   "outputs": [],
   "source": [
    "12. If you had a bacon() feature in a spam module, what would you call it after importing spam?\n",
    "Ans:If you have a `bacon()` function in a module named `spam`, after importing the `spam` module, you would call the function using the following syntax:\n",
    "\n",
    "```python\n",
    "import spam\n",
    "\n",
    "spam.bacon()\n",
    "```\n",
    "\n",
    "This assumes that the `bacon()` function is defined within the `spam` module."
   ]
  },
  {
   "cell_type": "code",
   "execution_count": null,
   "id": "68fad2d7",
   "metadata": {},
   "outputs": [],
   "source": [
    "13. What can you do to save a programme from crashing if it encounters an error?\n",
    "Ans:"
   ]
  },
  {
   "cell_type": "code",
   "execution_count": 2,
   "id": "e9a2e0c7",
   "metadata": {},
   "outputs": [
    {
     "name": "stdout",
     "output_type": "stream",
     "text": [
      "Error: Division by zero\n",
      "Result: None\n"
     ]
    }
   ],
   "source": [
    "try:\n",
    "    # Your code that may raise an exception\n",
    "    result = 10 / 0  # Example: division by zero\n",
    "except ZeroDivisionError:\n",
    "    # Handling the specific exception\n",
    "    print(\"Error: Division by zero\")\n",
    "    result = None  # Assigning a default value or handling the error in some way\n",
    "\n",
    "# The program continues running after handling the exception\n",
    "print(\"Result:\", result)\n"
   ]
  },
  {
   "cell_type": "code",
   "execution_count": null,
   "id": "dd3dce66",
   "metadata": {},
   "outputs": [],
   "source": [
    "14. What is the purpose of the try clause? What is the purpose of the except clause?\n",
    "Ans:"
   ]
  },
  {
   "cell_type": "code",
   "execution_count": 3,
   "id": "afa89de2",
   "metadata": {},
   "outputs": [
    {
     "name": "stdout",
     "output_type": "stream",
     "text": [
      "Error: Division by zero\n",
      "Result: None\n"
     ]
    }
   ],
   "source": [
    "try:\n",
    "    # Code that may raise an exception\n",
    "    result = 10 / 0  # Example: division by zero\n",
    "except ZeroDivisionError:\n",
    "    # Handling the specific exception\n",
    "    print(\"Error: Division by zero\")\n",
    "    result = None  # Assigning a default value or handling the error in some way\n",
    "\n",
    "# The program continues running after handling the exception\n",
    "print(\"Result:\", result)\n"
   ]
  },
  {
   "cell_type": "code",
   "execution_count": null,
   "id": "569ea5a6",
   "metadata": {},
   "outputs": [],
   "source": []
  }
 ],
 "metadata": {
  "kernelspec": {
   "display_name": "Python 3 (ipykernel)",
   "language": "python",
   "name": "python3"
  },
  "language_info": {
   "codemirror_mode": {
    "name": "ipython",
    "version": 3
   },
   "file_extension": ".py",
   "mimetype": "text/x-python",
   "name": "python",
   "nbconvert_exporter": "python",
   "pygments_lexer": "ipython3",
   "version": "3.11.3"
  }
 },
 "nbformat": 4,
 "nbformat_minor": 5
}
