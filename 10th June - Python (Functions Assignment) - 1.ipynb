{
 "cells": [
  {
   "cell_type": "code",
   "execution_count": null,
   "id": "da6500f3",
   "metadata": {},
   "outputs": [],
   "source": [
    "1. In Python, what is the difference between a built-in function and a user-defined function? Provide an\n",
    "example of each.\n",
    "Ans:#Built-in Functions:Built-in functions are functions that come pre-defined in the Python programming language. They are part of the Python standard library and can be used without explicitly defining them.\n",
    "    \n",
    "#User-defined Functions:User-defined functions are created by the programmer to perform a specific task. These functions are defined using the def keyword, followed by a function name, parameters, and a block of code.    "
   ]
  },
  {
   "cell_type": "code",
   "execution_count": 2,
   "id": "5640b29f",
   "metadata": {},
   "outputs": [
    {
     "name": "stdout",
     "output_type": "stream",
     "text": [
      "Sum of numbers: 15\n",
      "Hello, Alice!\n"
     ]
    }
   ],
   "source": [
    "# Example of a built-in function\n",
    "numbers = [1, 2, 3, 4, 5]\n",
    "total = sum(numbers)\n",
    "print(\"Sum of numbers:\", total)\n",
    "\n",
    "## Example of a user-defined function\n",
    "def greet(name):\n",
    "    \"\"\"This function prints a simple greeting.\"\"\"\n",
    "    print(\"Hello, \" + name + \"!\")\n",
    "\n",
    "# Calling the user-defined function\n",
    "greet(\"Alice\")\n"
   ]
  },
  {
   "cell_type": "code",
   "execution_count": null,
   "id": "ca8eac4e",
   "metadata": {},
   "outputs": [],
   "source": [
    "2. How can you pass arguments to a function in Python? Explain the difference between positional\n",
    "arguments and keyword arguments.\n",
    "Ans:#Positional Arguments:\n",
    "\n",
    "Arguments are passed based on their position or order.\n",
    "The values are assigned to the parameters in the order they appear in the function definition.\n",
    "\n",
    "#Keyword Arguments:\n",
    "\n",
    "Arguments are passed with the parameter names specified.\n",
    "The order of the arguments doesn't matter; you explicitly mention which argument corresponds to which parameter."
   ]
  },
  {
   "cell_type": "code",
   "execution_count": 5,
   "id": "62d9b523",
   "metadata": {},
   "outputs": [
    {
     "name": "stdout",
     "output_type": "stream",
     "text": [
      "Hello, Alice!\n"
     ]
    }
   ],
   "source": [
    "def add_numbers(a, b):\n",
    "    return a + b\n",
    "\n",
    "result = add_numbers(3, 5)  # 3 is assigned to 'a', and 5 is assigned to 'b'\n",
    "\n",
    "\n",
    "def greet(name, message):\n",
    "    print(f\"{message}, {name}!\")\n",
    "\n",
    "greet(message=\"Hello\", name=\"Alice\")  # Order doesn't matter; parameters are specified by name\n"
   ]
  },
  {
   "cell_type": "code",
   "execution_count": null,
   "id": "a80cc9fc",
   "metadata": {},
   "outputs": [],
   "source": [
    "3. What is the purpose of the return statement in a function? Can a function have multiple return\n",
    "statements? Explain with an example.\n",
    "Ans:#A function can have multiple return statements, but as soon as the first return statement is executed, the function exits, and subsequent code in the function is not executed. This means that only one return statement is executed during the function call."
   ]
  },
  {
   "cell_type": "code",
   "execution_count": 6,
   "id": "e24acf66",
   "metadata": {},
   "outputs": [
    {
     "name": "stdout",
     "output_type": "stream",
     "text": [
      "The grade for a score of 75 is: C\n"
     ]
    }
   ],
   "source": [
    "def find_grade(score):\n",
    "    if score >= 90:\n",
    "        return \"A\"\n",
    "    elif score >= 80:\n",
    "        return \"B\"\n",
    "    elif score >= 70:\n",
    "        return \"C\"\n",
    "    elif score >= 60:\n",
    "        return \"D\"\n",
    "    else:\n",
    "        return \"F\"\n",
    "\n",
    "# Example usage\n",
    "student_score = 75\n",
    "grade = find_grade(student_score)\n",
    "print(f\"The grade for a score of {student_score} is: {grade}\")\n"
   ]
  },
  {
   "cell_type": "code",
   "execution_count": null,
   "id": "a6b82a1b",
   "metadata": {},
   "outputs": [],
   "source": [
    "4. What are lambda functions in Python? How are they different from regular functions? Provide an\n",
    "example where a lambda function can be useful.\n",
    "Ans:#Anonymous vs Named:\n",
    "\n",
    "Lambda functions are anonymous; they don't have a name. They are usually used for short, one-time operations.\n",
    "Regular functions are named and are defined using the def keyword. They are used for more complex and reusable operations.\n",
    "#Syntax and Size:\n",
    "\n",
    "Lambda functions are concise and are typically one-liners.\n",
    "Regular functions "
   ]
  },
  {
   "cell_type": "code",
   "execution_count": 7,
   "id": "aa44591a",
   "metadata": {},
   "outputs": [
    {
     "name": "stdout",
     "output_type": "stream",
     "text": [
      "Sorted list: [(4, 1), (3, 2), (1, 5), (2, 8)]\n"
     ]
    }
   ],
   "source": [
    "# Using a regular function\n",
    "def sort_by_second_element(tuple_list):\n",
    "    return sorted(tuple_list, key=lambda x: x[1])\n",
    "\n",
    "# Using a lambda function directly\n",
    "tuple_list = [(1, 5), (3, 2), (2, 8), (4, 1)]\n",
    "sorted_list = sorted(tuple_list, key=lambda x: x[1])\n",
    "\n",
    "print(\"Sorted list:\", sorted_list)\n"
   ]
  },
  {
   "cell_type": "code",
   "execution_count": null,
   "id": "243dfb54",
   "metadata": {},
   "outputs": [],
   "source": [
    "5. How does the concept of \"scope\" apply to functions in Python? Explain the difference between local\n",
    "scope and global scope.\n",
    "Ans:#Local Scope:\n",
    "\n",
    "Variables defined within a function are said to have local scope.\n",
    "They are only accessible within that function and are not visible to the rest of the program.\n",
    "Once the function execution completes, the local variables are destroyed.\n",
    "#Global Scope:\n",
    "\n",
    "Variables defined outside of any function or block have global scope.\n",
    "They are accessible throughout the entire program, including within functions.\n",
    "Global variables persist as long as the program is running."
   ]
  },
  {
   "cell_type": "code",
   "execution_count": 9,
   "id": "d6314524",
   "metadata": {},
   "outputs": [
    {
     "name": "stdout",
     "output_type": "stream",
     "text": [
      "I am local\n",
      "I am global\n",
      "I am global\n"
     ]
    }
   ],
   "source": [
    "def example_function():\n",
    "    local_variable = \"I am local\"\n",
    "    print(local_variable)\n",
    "\n",
    "example_function()\n",
    "# print(local_variable)  # This would result in an error, as local_variable is not defined here\n",
    "\n",
    "global_variable = \"I am global\"\n",
    "\n",
    "def example_function():\n",
    "    print(global_variable)\n",
    "\n",
    "example_function()\n",
    "print(global_variable)\n"
   ]
  },
  {
   "cell_type": "code",
   "execution_count": null,
   "id": "d088d725",
   "metadata": {},
   "outputs": [],
   "source": [
    "6. How can you use the \"return\" statement in a Python function to return multiple values?\n",
    "Ans:"
   ]
  },
  {
   "cell_type": "code",
   "execution_count": 10,
   "id": "4a450807",
   "metadata": {},
   "outputs": [
    {
     "name": "stdout",
     "output_type": "stream",
     "text": [
      "Area: 12\n",
      "Perimeter: 14\n",
      "Diagonal: 5.0\n"
     ]
    }
   ],
   "source": [
    "def get_rectangle_info(length, width):\n",
    "    area = length * width\n",
    "    perimeter = 2 * (length + width)\n",
    "    diagonal = (length**2 + width**2)**0.5\n",
    "    return area, perimeter, diagonal\n",
    "\n",
    "# Example usage\n",
    "length = 4\n",
    "width = 3\n",
    "\n",
    "# Unpacking the returned tuple\n",
    "area_result, perimeter_result, diagonal_result = get_rectangle_info(length, width)\n",
    "\n",
    "print(\"Area:\", area_result)\n",
    "print(\"Perimeter:\", perimeter_result)\n",
    "print(\"Diagonal:\", diagonal_result)\n"
   ]
  },
  {
   "cell_type": "code",
   "execution_count": null,
   "id": "57054534",
   "metadata": {},
   "outputs": [],
   "source": [
    "7. What is the difference between the \"pass by value\" and \"pass by reference\" concepts when it\n",
    "comes to function arguments in Python?\n",
    "Ans:# the concepts of \"pass by value\" and \"pass by reference\" are often discussed in the context of function arguments. However, it's important to note that Python uses a mechanism that is sometimes referred to as \"pass by object reference\" or \"call by object reference.\" This means that the function receives references to objects as arguments, but the behavior can vary depending on whether the object is mutable or immutable."
   ]
  },
  {
   "cell_type": "code",
   "execution_count": 12,
   "id": "869f83b3",
   "metadata": {},
   "outputs": [
    {
     "name": "stdout",
     "output_type": "stream",
     "text": [
      "Inside function: 6\n",
      "Outside function: 5\n",
      "Inside function: [1, 2, 3, 4]\n",
      "Outside function: [1, 2, 3, 4]\n"
     ]
    }
   ],
   "source": [
    "#Immutable Objects (Pass by Value-like):\n",
    "def modify_value(x):\n",
    "    x = x + 1\n",
    "    print(\"Inside function:\", x)\n",
    "\n",
    "num = 5\n",
    "modify_value(num)\n",
    "print(\"Outside function:\", num)\n",
    "\n",
    "#Mutable Objects (Pass by Reference-like):\n",
    "def modify_list(lst):\n",
    "    lst.append(4)\n",
    "    print(\"Inside function:\", lst)\n",
    "\n",
    "my_list = [1, 2, 3]\n",
    "modify_list(my_list)\n",
    "print(\"Outside function:\", my_list)\n"
   ]
  },
  {
   "cell_type": "code",
   "execution_count": 13,
   "id": "a2c3cdf1",
   "metadata": {},
   "outputs": [
    {
     "ename": "SyntaxError",
     "evalue": "invalid syntax (1377524585.py, line 1)",
     "output_type": "error",
     "traceback": [
      "\u001b[1;36m  Cell \u001b[1;32mIn[13], line 1\u001b[1;36m\u001b[0m\n\u001b[1;33m    8. Create a function that can intake integer or decimal value and do following operations:\u001b[0m\n\u001b[1;37m       ^\u001b[0m\n\u001b[1;31mSyntaxError\u001b[0m\u001b[1;31m:\u001b[0m invalid syntax\n"
     ]
    }
   ],
   "source": [
    "8. Create a function that can intake integer or decimal value and do following operations:\n",
    "a. Logarithmic function (log x)\n",
    "b. Exponential function (exp(x))\n",
    "c. Power function with base 2 (2^)\n",
    "d. Square root\n",
    "Ans:\n",
    "    "
   ]
  },
  {
   "cell_type": "code",
   "execution_count": 14,
   "id": "3b7db5a6",
   "metadata": {},
   "outputs": [
    {
     "name": "stdout",
     "output_type": "stream",
     "text": [
      "Logarithmic function (log x) of 4.0: 1.3862943611198906\n",
      "Exponential function (exp(x)) of 4.0: 54.598150033144236\n",
      "Power function with base 2 (2^4.0): 16.0\n",
      "Square root of 4.0: 2.0\n"
     ]
    }
   ],
   "source": [
    "import math\n",
    "\n",
    "def math_operations(x):\n",
    "    result_log = math.log(x)\n",
    "    result_exp = math.exp(x)\n",
    "    result_power_two = 2**x\n",
    "    result_sqrt = math.sqrt(x)\n",
    "\n",
    "    return result_log, result_exp, result_power_two, result_sqrt\n",
    "\n",
    "# Example usage:\n",
    "input_value = 4.0\n",
    "\n",
    "log_result, exp_result, power_two_result, sqrt_result = math_operations(input_value)\n",
    "\n",
    "print(f\"Logarithmic function (log x) of {input_value}: {log_result}\")\n",
    "print(f\"Exponential function (exp(x)) of {input_value}: {exp_result}\")\n",
    "print(f\"Power function with base 2 (2^{input_value}): {power_two_result}\")\n",
    "print(f\"Square root of {input_value}: {sqrt_result}\")\n"
   ]
  },
  {
   "cell_type": "code",
   "execution_count": null,
   "id": "6a0fe5f3",
   "metadata": {},
   "outputs": [],
   "source": [
    "9. Create a function that takes a full name as an argument and returns first name and last name.\n",
    "Ans:"
   ]
  },
  {
   "cell_type": "code",
   "execution_count": 15,
   "id": "bf5b63ad",
   "metadata": {},
   "outputs": [
    {
     "name": "stdout",
     "output_type": "stream",
     "text": [
      "First Name: John\n",
      "Last Name: Doe\n"
     ]
    }
   ],
   "source": [
    "def split_full_name(full_name):\n",
    "    # Split the full name into a list of words\n",
    "    name_parts = full_name.split()\n",
    "\n",
    "    # Assume the first word is the first name\n",
    "    first_name = name_parts[0]\n",
    "\n",
    "    # Assume the last word is the last name\n",
    "    last_name = name_parts[-1]\n",
    "\n",
    "    return first_name, last_name\n",
    "\n",
    "# Example usage:\n",
    "full_name = \"John Doe\"\n",
    "first_name, last_name = split_full_name(full_name)\n",
    "\n",
    "print(\"First Name:\", first_name)\n",
    "print(\"Last Name:\", last_name)\n"
   ]
  },
  {
   "cell_type": "code",
   "execution_count": null,
   "id": "15eb1855",
   "metadata": {},
   "outputs": [],
   "source": []
  },
  {
   "cell_type": "code",
   "execution_count": null,
   "id": "150e5bc7",
   "metadata": {},
   "outputs": [],
   "source": []
  },
  {
   "cell_type": "code",
   "execution_count": null,
   "id": "489f0773",
   "metadata": {},
   "outputs": [],
   "source": []
  }
 ],
 "metadata": {
  "kernelspec": {
   "display_name": "Python 3 (ipykernel)",
   "language": "python",
   "name": "python3"
  },
  "language_info": {
   "codemirror_mode": {
    "name": "ipython",
    "version": 3
   },
   "file_extension": ".py",
   "mimetype": "text/x-python",
   "name": "python",
   "nbconvert_exporter": "python",
   "pygments_lexer": "ipython3",
   "version": "3.11.3"
  }
 },
 "nbformat": 4,
 "nbformat_minor": 5
}
