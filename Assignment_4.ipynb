{
 "cells": [
  {
   "cell_type": "code",
   "execution_count": null,
   "id": "7b4a5db7",
   "metadata": {},
   "outputs": [],
   "source": [
    "1.What exactly is []?\n",
    "Ans: `[]` represents an empty list in programming."
   ]
  },
  {
   "cell_type": "code",
   "execution_count": null,
   "id": "b022d293",
   "metadata": {},
   "outputs": [],
   "source": [
    "2. In a list of values stored in a variable called spam, how would you assign the value 'hello' as the\n",
    "third value? (Assume [2, 4, 6, 8, 10] are in spam.)\n",
    "Let's pretend the spam includes the list ['a','b','c','d'] for the next three queries.\n",
    "Ans:"
   ]
  },
  {
   "cell_type": "code",
   "execution_count": 2,
   "id": "dfed3ebd",
   "metadata": {},
   "outputs": [
    {
     "name": "stdout",
     "output_type": "stream",
     "text": [
      "['a', 'b', 'hello', 'd']\n"
     ]
    }
   ],
   "source": [
    "spam = ['a', 'b', 'c', 'd']\n",
    "spam[2] = 'hello'\n",
    "print(spam)"
   ]
  },
  {
   "cell_type": "code",
   "execution_count": null,
   "id": "0f929279",
   "metadata": {},
   "outputs": [],
   "source": [
    "3.What is the value of spam[int(int(3* 2) / 11)]?\n",
    "Ans:"
   ]
  },
  {
   "cell_type": "code",
   "execution_count": 4,
   "id": "31f5b371",
   "metadata": {},
   "outputs": [
    {
     "data": {
      "text/plain": [
       "'a'"
      ]
     },
     "execution_count": 4,
     "metadata": {},
     "output_type": "execute_result"
    }
   ],
   "source": [
    "spam[int(int(3 * 2) / 11)]"
   ]
  },
  {
   "cell_type": "markdown",
   "id": "83bf9f97",
   "metadata": {},
   "source": [
    "4.What is the value of spam[-1]?\n",
    "Ans:The expression `spam[-1]` retrieves the last element of the list `spam`. In the case of the list `spam = ['a', 'b', 'hello', 'd']`, the last element is `'d'`. Therefore, the value of `spam[-1]` is `'d'`."
   ]
  },
  {
   "cell_type": "code",
   "execution_count": null,
   "id": "5276aca1",
   "metadata": {},
   "outputs": [],
   "source": [
    "5. What is the value of spam[:2]?\n",
    "Let,s pretend bacon has the list [3.14, 'cat' 11, 'cat', True] for the next three questions.\n",
    "Ans:\n",
    "    Given the list spam = ['a', 'b', 'hello', 'd'], the value of spam[:2] would be a new list containing the elements at indices 0 and 1. Therefore, the result is ['a', 'b']."
   ]
  },
  {
   "cell_type": "code",
   "execution_count": 5,
   "id": "48465332",
   "metadata": {},
   "outputs": [
    {
     "data": {
      "text/plain": [
       "['a', 'b']"
      ]
     },
     "execution_count": 5,
     "metadata": {},
     "output_type": "execute_result"
    }
   ],
   "source": [
    "spam = ['a', 'b', 'hello', 'd']\n",
    "spam[:2]"
   ]
  },
  {
   "cell_type": "code",
   "execution_count": 6,
   "id": "d3f097aa",
   "metadata": {},
   "outputs": [],
   "source": [
    "bacon = [3.14, 'cat', 11, 'cat', True]"
   ]
  },
  {
   "cell_type": "code",
   "execution_count": null,
   "id": "0b5f1d65",
   "metadata": {},
   "outputs": [],
   "source": [
    "6.hat is the value of bacon.index('cat')?\n",
    "Ans:The value of bacon.index('cat') would be 1 because the first occurrence of 'cat' is at index 1 in the list bacon"
   ]
  },
  {
   "cell_type": "code",
   "execution_count": null,
   "id": "66194d4d",
   "metadata": {},
   "outputs": [],
   "source": [
    "7. How does bacon.append(99) change the look of the list value in bacon?\n",
    "Ans: "
   ]
  },
  {
   "cell_type": "code",
   "execution_count": 8,
   "id": "3759b431",
   "metadata": {},
   "outputs": [
    {
     "name": "stdout",
     "output_type": "stream",
     "text": [
      "[3.14, 'cat', 11, 'cat', True, 99]\n"
     ]
    }
   ],
   "source": [
    "bacon = [3.14, 'cat', 11, 'cat', True]\n",
    "bacon.append(99)\n",
    "print(bacon)"
   ]
  },
  {
   "cell_type": "code",
   "execution_count": null,
   "id": "b8df0d0d",
   "metadata": {},
   "outputs": [],
   "source": [
    "8.How does bacon.remove('cat') change the look of the list in bacon?\n",
    "Ans:"
   ]
  },
  {
   "cell_type": "code",
   "execution_count": 10,
   "id": "4deec089",
   "metadata": {},
   "outputs": [
    {
     "name": "stdout",
     "output_type": "stream",
     "text": [
      "[3.14, 11, 'cat', True, 99]\n"
     ]
    }
   ],
   "source": [
    "bacon = [3.14, 'cat', 11, 'cat', True, 99]\n",
    "bacon.remove('cat')\n",
    "print(bacon)"
   ]
  },
  {
   "cell_type": "code",
   "execution_count": null,
   "id": "11fcc273",
   "metadata": {},
   "outputs": [],
   "source": [
    "9. What are the list concatenation and list replication operators?\n",
    "Ans:"
   ]
  },
  {
   "cell_type": "code",
   "execution_count": 12,
   "id": "4c3b5b79",
   "metadata": {},
   "outputs": [
    {
     "name": "stdout",
     "output_type": "stream",
     "text": [
      "[1, 2, 3, 4, 5, 6]\n",
      "[1, 2, 3, 1, 2, 3, 1, 2, 3]\n"
     ]
    }
   ],
   "source": [
    "#List Concatenation (+):\n",
    "list1 = [1, 2, 3]\n",
    "list2 = [4, 5, 6]\n",
    "concatenated_list = list1 + list2\n",
    "print(concatenated_list)\n",
    "\n",
    "#List Replication (*)\n",
    "original_list = [1, 2, 3]\n",
    "replicated_list = original_list * 3\n",
    "print(replicated_list)\n"
   ]
  },
  {
   "cell_type": "code",
   "execution_count": null,
   "id": "473cb08a",
   "metadata": {},
   "outputs": [],
   "source": [
    "10. What is difference between the list methods append() and insert()?\n",
    "Ans:"
   ]
  },
  {
   "cell_type": "code",
   "execution_count": 14,
   "id": "d61bea4b",
   "metadata": {},
   "outputs": [
    {
     "name": "stdout",
     "output_type": "stream",
     "text": [
      "[1, 2, 3, 4]\n",
      "[1, 4, 2, 3]\n"
     ]
    }
   ],
   "source": [
    "#append() Method:\n",
    "my_list = [1, 2, 3]\n",
    "my_list.append(4)\n",
    "print(my_list)\n",
    "\n",
    "#insert() Method:\n",
    "my_list = [1, 2, 3]\n",
    "my_list.insert(1, 4)\n",
    "print(my_list)\n"
   ]
  },
  {
   "cell_type": "code",
   "execution_count": null,
   "id": "f2823e60",
   "metadata": {},
   "outputs": [],
   "source": [
    "11. What are the two methods for removing items from a list?\n",
    "Ans:"
   ]
  },
  {
   "cell_type": "code",
   "execution_count": 18,
   "id": "5ff683cf",
   "metadata": {},
   "outputs": [
    {
     "name": "stdout",
     "output_type": "stream",
     "text": [
      "[1, 3, 4, 2]\n",
      "[1, 3, 4]\n",
      "Removed: 2\n"
     ]
    }
   ],
   "source": [
    "#remove() Method:\n",
    "my_list = [1, 2, 3, 4, 2]\n",
    "my_list.remove(2)\n",
    "print(my_list)\n",
    "\n",
    "#pop() Method:\n",
    "my_list = [1, 2, 3, 4]\n",
    "removed_element = my_list.pop(1)\n",
    "print(my_list)\n",
    "print(\"Removed:\", removed_element)\n"
   ]
  },
  {
   "cell_type": "code",
   "execution_count": null,
   "id": "02690fc4",
   "metadata": {},
   "outputs": [],
   "source": [
    "12.Describe how list values and string values are identical.\n",
    "Ans:#Both are Sequences:\n",
    "\n",
    "##Both lists and strings are sequences, meaning they are ordered collections of elements.Elements in both lists and strings can be accessed by their index.\n",
    "\n",
    "#Indexing and Slicing:\n",
    "\n",
    "##You can use indexing and slicing operations to access specific elements or sub-sequences in both lists and strings."
   ]
  },
  {
   "cell_type": "code",
   "execution_count": 19,
   "id": "6a97ad0a",
   "metadata": {},
   "outputs": [
    {
     "name": "stdout",
     "output_type": "stream",
     "text": [
      "1\n",
      "e\n",
      "[2, 3]\n",
      "ell\n"
     ]
    }
   ],
   "source": [
    "my_list = [1, 2, 3, 4]\n",
    "my_string = \"hello\"\n",
    "\n",
    "# Indexing\n",
    "print(my_list[0])   \n",
    "print(my_string[1])  \n",
    "\n",
    "# Slicing\n",
    "print(my_list[1:3])  \n",
    "print(my_string[1:4]) \n"
   ]
  },
  {
   "cell_type": "code",
   "execution_count": 20,
   "id": "1f7d7b38",
   "metadata": {},
   "outputs": [
    {
     "name": "stdout",
     "output_type": "stream",
     "text": [
      "1\n",
      "2\n",
      "3\n",
      "4\n",
      "h\n",
      "e\n",
      "l\n",
      "l\n",
      "o\n"
     ]
    }
   ],
   "source": [
    "#Iteration:\n",
    "my_list = [1, 2, 3, 4]\n",
    "my_string = \"hello\"\n",
    "\n",
    "# Iteration\n",
    "for item in my_list:\n",
    "    print(item)\n",
    "\n",
    "for char in my_string:\n",
    "    print(char)\n"
   ]
  },
  {
   "cell_type": "code",
   "execution_count": 21,
   "id": "dcdf8b9f",
   "metadata": {},
   "outputs": [
    {
     "name": "stdout",
     "output_type": "stream",
     "text": [
      "4\n",
      "5\n"
     ]
    }
   ],
   "source": [
    "#Length (len()):\n",
    "my_list = [1, 2, 3, 4]\n",
    "my_string = \"hello\"\n",
    "\n",
    "print(len(my_list))   # Output: 4\n",
    "print(len(my_string)) # Output: 5\n"
   ]
  },
  {
   "cell_type": "code",
   "execution_count": null,
   "id": "0794d6c8",
   "metadata": {},
   "outputs": [],
   "source": [
    "13. What's the difference between tuples and lists?\n",
    "Ans:#Lists are mutable: Elements can be added, removed, or modified after the list is created.\n",
    "#Tuples are immutable: Once a tuple is created, its elements cannot be changed or modified. You can't add, remove, or update elements in a tuple."
   ]
  },
  {
   "cell_type": "code",
   "execution_count": null,
   "id": "ed442da1",
   "metadata": {},
   "outputs": [],
   "source": [
    "14.How do you type a tuple value that only contains the integer 42?\n",
    "Ans:my_tuple = (42,)\n"
   ]
  },
  {
   "cell_type": "code",
   "execution_count": null,
   "id": "e3c099c3",
   "metadata": {},
   "outputs": [],
   "source": [
    "15.How do you get a list value's tuple form? How do you get a tuple value&#39;s list form?\n",
    "Ans:"
   ]
  },
  {
   "cell_type": "code",
   "execution_count": 25,
   "id": "679c30f3",
   "metadata": {},
   "outputs": [
    {
     "name": "stdout",
     "output_type": "stream",
     "text": [
      "(1, 2, 3, 4)\n",
      "[1, 2, 3, 4]\n"
     ]
    }
   ],
   "source": [
    "#tuple[]\n",
    "my_list = [1, 2, 3, 4]\n",
    "my_tuple = tuple(my_list)\n",
    "print(my_tuple)\n",
    "\n",
    "#list()\n",
    "my_tuple = (1, 2, 3, 4)\n",
    "my_list = list(my_tuple)\n",
    "print(my_list)"
   ]
  },
  {
   "cell_type": "code",
   "execution_count": null,
   "id": "8ba9fc22",
   "metadata": {},
   "outputs": [],
   "source": [
    "16. Variables that &quot;contain&quot; list values are not necessarily lists themselves. Instead, what do they\n",
    "contain?\n",
    "Ans:Variables that \"contain\" list values in Python actually contain references or pointers to the list in memory, not the list itself. In other words, the variable holds the memory address where the list is stored"
   ]
  },
  {
   "cell_type": "code",
   "execution_count": null,
   "id": "60bc2546",
   "metadata": {},
   "outputs": [],
   "source": [
    "17. How do you distinguish between copy.copy() and copy.deepcopy()?\n",
    "Ans:"
   ]
  },
  {
   "cell_type": "code",
   "execution_count": 27,
   "id": "096cc47b",
   "metadata": {},
   "outputs": [
    {
     "name": "stdout",
     "output_type": "stream",
     "text": [
      "[1, [99, 3], 4]\n",
      "[1, [2, 3], 4]\n"
     ]
    }
   ],
   "source": [
    "#copy.copy():\n",
    "import copy\n",
    "\n",
    "original_list = [1, [2, 3], 4]\n",
    "shallow_copy = copy.copy(original_list)\n",
    "\n",
    "# Modify the nested list\n",
    "shallow_copy[1][0] = 99\n",
    "\n",
    "print(original_list)  \n",
    "\n",
    "\n",
    "#copy.deepcopy():\n",
    "import copy\n",
    "\n",
    "original_list = [1, [2, 3], 4]\n",
    "deep_copy = copy.deepcopy(original_list)\n",
    "\n",
    "# Modify the nested list\n",
    "deep_copy[1][0] = 99\n",
    "\n",
    "print(original_list) \n"
   ]
  },
  {
   "cell_type": "code",
   "execution_count": null,
   "id": "32000aa0",
   "metadata": {},
   "outputs": [],
   "source": []
  },
  {
   "cell_type": "code",
   "execution_count": null,
   "id": "c3983e6c",
   "metadata": {},
   "outputs": [],
   "source": []
  }
 ],
 "metadata": {
  "kernelspec": {
   "display_name": "Python 3 (ipykernel)",
   "language": "python",
   "name": "python3"
  },
  "language_info": {
   "codemirror_mode": {
    "name": "ipython",
    "version": 3
   },
   "file_extension": ".py",
   "mimetype": "text/x-python",
   "name": "python",
   "nbconvert_exporter": "python",
   "pygments_lexer": "ipython3",
   "version": "3.11.3"
  }
 },
 "nbformat": 4,
 "nbformat_minor": 5
}
