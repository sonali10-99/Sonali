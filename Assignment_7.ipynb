{
 "cells": [
  {
   "cell_type": "code",
   "execution_count": null,
   "id": "55473a97",
   "metadata": {},
   "outputs": [],
   "source": [
    "1. Create two int type variables, apply addition, subtraction, division and multiplications\n",
    "and store the results in variables. Then print the data in the following format by calling the\n",
    "variables:\n",
    "First variable is __ & second variable is __.\n",
    "Addition: __ + __ = __\n",
    "Subtraction: __ - __ = __\n",
    "Multiplication: __ * __ = __\n",
    "Division: __ / __ = __\n",
    "\n",
    "Ans:"
   ]
  },
  {
   "cell_type": "code",
   "execution_count": 1,
   "id": "d97408ae",
   "metadata": {},
   "outputs": [
    {
     "name": "stdout",
     "output_type": "stream",
     "text": [
      "First variable is 10 & second variable is 5\n",
      "Addition: 10 + 5 = 15\n",
      "Subtraction: 10 - 5 = 5\n",
      "Multiplication: 10 * 5 = 50\n",
      "Division: 10 / 5 = 2.0\n"
     ]
    }
   ],
   "source": [
    "# Create two int type variables\n",
    "first_variable = 10\n",
    "second_variable = 5\n",
    "\n",
    "# Perform operations\n",
    "addition_result = first_variable + second_variable\n",
    "subtraction_result = first_variable - second_variable\n",
    "multiplication_result = first_variable * second_variable\n",
    "\n",
    "# Check for division by zero before performing division\n",
    "if second_variable != 0:\n",
    "    division_result = first_variable / second_variable\n",
    "else:\n",
    "    division_result = \"Undefined (division by zero)\"\n",
    "\n",
    "# Print the results\n",
    "print(\"First variable is\", first_variable, \"& second variable is\", second_variable)\n",
    "print(\"Addition:\", first_variable, \"+\", second_variable, \"=\", addition_result)\n",
    "print(\"Subtraction:\", first_variable, \"-\", second_variable, \"=\", subtraction_result)\n",
    "print(\"Multiplication:\", first_variable, \"*\", second_variable, \"=\", multiplication_result)\n",
    "print(\"Division:\", first_variable, \"/\", second_variable, \"=\", division_result)\n"
   ]
  },
  {
   "cell_type": "code",
   "execution_count": 2,
   "id": "20bb6e00",
   "metadata": {},
   "outputs": [
    {
     "ename": "SyntaxError",
     "evalue": "invalid character '‘' (U+2018) (3085470379.py, line 2)",
     "output_type": "error",
     "traceback": [
      "\u001b[1;36m  Cell \u001b[1;32mIn[2], line 2\u001b[1;36m\u001b[0m\n\u001b[1;33m    (i) ‘/’ & ‘//’\u001b[0m\n\u001b[1;37m        ^\u001b[0m\n\u001b[1;31mSyntaxError\u001b[0m\u001b[1;31m:\u001b[0m invalid character '‘' (U+2018)\n"
     ]
    }
   ],
   "source": [
    "2. What is the difference between the following operators:\n",
    "(i) ‘/’ & ‘//’\n",
    "(ii) ‘**’ & ‘^’\n",
    "Ans:#1)The '/' operator is the division operator in Python, and it performs floating-point division. It means that it returns a floating-point result even if the result is a whole number. \n",
    "  #2)the '//' operator is the floor division operator. It performs division and rounds down the result to the nearest whole number.  \n",
    "#3)The '**' operator is the exponentiation operator in Python, used for raising a number to the power of another.\n",
    "#4)The '^' operator, however, is not used for exponentiation in Python. Instead, it is the bitwise XOR (exclusive OR) operator"
   ]
  },
  {
   "cell_type": "code",
   "execution_count": 6,
   "id": "db9f298b",
   "metadata": {},
   "outputs": [
    {
     "name": "stdout",
     "output_type": "stream",
     "text": [
      "2.5\n",
      "2\n",
      "8\n",
      "8\n"
     ]
    }
   ],
   "source": [
    "#‘/’\n",
    "result = 5 / 2\n",
    "print(result)  \n",
    "\n",
    "#‘//’\n",
    "result = 5 // 2\n",
    "print(result)  # Output: 2\n",
    "\n",
    "#'**'\n",
    "result = 2 ** 3\n",
    "print(result)  # Output: 8\n",
    "\n",
    "#result = 5 ^ 3\n",
    "print(result)  # Output: 6 (Binary: 101 ^ 011 = 110)\n"
   ]
  },
  {
   "cell_type": "code",
   "execution_count": null,
   "id": "b831c639",
   "metadata": {},
   "outputs": [],
   "source": [
    "3. List the logical operators.\n",
    "Ans:Logical AND:\n",
    "\n",
    "Operator: and\n",
    "Logical OR:\n",
    "\n",
    "Operator: or\n",
    "Logical NOT:\n",
    "\n",
    "Operator: not"
   ]
  },
  {
   "cell_type": "code",
   "execution_count": null,
   "id": "d48d3911",
   "metadata": {},
   "outputs": [],
   "source": [
    "4. Explain right shift operator and left shift operator with examples.\n",
    "Ans:#The right shift operator shifts the bits to the right by a specified number of positions. It fills the vacant positions on the left with the sign bit (the leftmost bit)\n",
    "    #The left shift operator shifts the bits to the left by a specified number of positions. It fills the vacant positions on the right with zeros."
   ]
  },
  {
   "cell_type": "code",
   "execution_count": 9,
   "id": "1cd8639c",
   "metadata": {},
   "outputs": [
    {
     "name": "stdout",
     "output_type": "stream",
     "text": [
      "2\n",
      "32\n"
     ]
    }
   ],
   "source": [
    "#Q.4. Explain right shift operator and left shift operator with examples.\n",
    "# Right shift 8 by 2 positions\n",
    "result = 8 >> 2\n",
    "print(result)\n",
    "\n",
    "#Left Shift Operator (<<):\n",
    "# Left shift 4 by 3 positions\n",
    "result = 4 << 3\n",
    "print(result)\n",
    "\n"
   ]
  },
  {
   "cell_type": "code",
   "execution_count": null,
   "id": "90af2ded",
   "metadata": {},
   "outputs": [],
   "source": [
    "5.create a list containing int type data of length 15. Then write a code to check if 10 is\n",
    "present in the list or not.\n",
    "Ans:"
   ]
  },
  {
   "cell_type": "code",
   "execution_count": 10,
   "id": "649278cc",
   "metadata": {},
   "outputs": [
    {
     "name": "stdout",
     "output_type": "stream",
     "text": [
      "10 is present in the list.\n"
     ]
    }
   ],
   "source": [
    "# Create a list of integers\n",
    "my_list = [2, 5, 8, 10, 15, 20, 25, 30, 35, 40, 45, 50, 55, 60, 65]\n",
    "\n",
    "# Check if 10 is present in the list\n",
    "if 10 in my_list:\n",
    "    print(\"10 is present in the list.\")\n",
    "else:\n",
    "    print(\"10 is not present in the list.\")\n"
   ]
  },
  {
   "cell_type": "code",
   "execution_count": null,
   "id": "477981be",
   "metadata": {},
   "outputs": [],
   "source": []
  }
 ],
 "metadata": {
  "kernelspec": {
   "display_name": "Python 3 (ipykernel)",
   "language": "python",
   "name": "python3"
  },
  "language_info": {
   "codemirror_mode": {
    "name": "ipython",
    "version": 3
   },
   "file_extension": ".py",
   "mimetype": "text/x-python",
   "name": "python",
   "nbconvert_exporter": "python",
   "pygments_lexer": "ipython3",
   "version": "3.11.3"
  }
 },
 "nbformat": 4,
 "nbformat_minor": 5
}
