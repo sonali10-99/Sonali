{
 "cells": [
  {
   "cell_type": "markdown",
   "id": "818b4d75",
   "metadata": {},
   "source": [
    "# Assignment_1"
   ]
  },
  {
   "cell_type": "code",
   "execution_count": 1,
   "id": "a95aaa52",
   "metadata": {},
   "outputs": [
    {
     "ename": "SyntaxError",
     "evalue": "invalid syntax (3590249862.py, line 1)",
     "output_type": "error",
     "traceback": [
      "\u001b[1;36m  Cell \u001b[1;32mIn[1], line 1\u001b[1;36m\u001b[0m\n\u001b[1;33m    1. In the below elements which of them are values or an expression? eg:- values can be\u001b[0m\n\u001b[1;37m       ^\u001b[0m\n\u001b[1;31mSyntaxError\u001b[0m\u001b[1;31m:\u001b[0m invalid syntax\n"
     ]
    }
   ],
   "source": [
    "1. In the below elements which of them are values or an expression? eg:- values can be\n",
    "integer or string and expressions will be mathematical operators.\n",
    "*\n",
    "'hello'\n",
    "-87.8\n",
    "-\n",
    "/\n",
    "+\n",
    "6\n",
    "ans:-* - This is an arithmetic operator (multiplication).\n",
    "\n",
    "'hello' - This is a value and specifically a string.\n",
    "\n",
    "-87.8 - This is a value and specifically a floating-point number.\n",
    "\n",
    "- - This is an arithmetic operator (subtraction).\n",
    "\n",
    "/ - This is an arithmetic operator (division).\n",
    "\n",
    "+ - This is an arithmetic operator (addition).\n",
    "\n",
    "6 - This is a value and specifically an integer.\n",
    "\n",
    "So, the values are: 'hello', -87.8, and 6.\n",
    "\n",
    "The expressions are: *, -, /, and +."
   ]
  },
  {
   "cell_type": "code",
   "execution_count": null,
   "id": "7a00e55c",
   "metadata": {},
   "outputs": [],
   "source": [
    "2.What is the difference between string and variable?\n",
    " a string is a specific type of data (text), whereas a variable is a container that can hold different types of data, including strings. The variable allows you to assign and manipulate values, and you can assign a string to a variable if you want that variable to store textual information.Ans: "
   ]
  },
  {
   "cell_type": "code",
   "execution_count": null,
   "id": "b13ab1ca",
   "metadata": {},
   "outputs": [],
   "source": [
    "3.Describe three different data types.\n",
    "Ans: Integer (int):\n",
    "\n",
    "An integer is a whole number without a fractional part.\n",
    "Examples: -5, 0, 42, 100.\n",
    "Integers are used to represent values that can be counted or do not have decimal places.\n",
    "Floating-point (float):\n",
    "\n",
    "A floating-point number is a number that has both an integer part and a fractional part, separated by a decimal point.\n",
    "Examples: -3.14, 0.0, 2.718.\n",
    "Floating-point numbers are used to represent values that can have decimal places, such as measurements or calculations involving real numbers.\n",
    "String:\n",
    "\n",
    "A string is a sequence of characters, typically used to represent text.\n",
    "Examples: \"Hello, World!\", 'Python', \"123\".\n",
    "Strings are versatile and can include letters, numbers, and special characters. They are often used for working with textual data in programming."
   ]
  },
  {
   "cell_type": "code",
   "execution_count": null,
   "id": "c754191b",
   "metadata": {},
   "outputs": [],
   "source": [
    "4. What is an expression made up of? What do all expressions do?\n",
    "Ans: An expression is made up of values, variables, operators, and function calls. All expressions, when evaluated, produce a result or a value. They are the building blocks of computations in programming, used for calculations, comparisons, and data manipulation."
   ]
  },
  {
   "cell_type": "code",
   "execution_count": null,
   "id": "5a859419",
   "metadata": {},
   "outputs": [],
   "source": [
    "This assignment statements, like spam = 10. What is the difference between an\n",
    "expression and a statement?\n",
    "Ans: Expression: An expression is a combination of values, variables, operators, and/or function calls that, when evaluated, results in a value. It produces a value.\n",
    "\n",
    "Example: 3 + 5 is an expression that evaluates to 8.\n",
    "Statement: A statement is a complete line of code that performs an action. It may include expressions. Unlike expressions, statements do not necessarily return a value.\n",
    "\n",
    "Example: spam = 10 is a statement that assigns the value 10 to the variable spam."
   ]
  },
  {
   "cell_type": "code",
   "execution_count": null,
   "id": "9c34a899",
   "metadata": {},
   "outputs": [],
   "source": [
    "6.After running the following code, what does the variable bacon contain?\n",
    "bacon = 22\n",
    "bacon + 1\n",
    "Ans:\n",
    "bacon = 22\n",
    "bacon + 1\n",
    "bacon = bacon + 1  # or bacon += 1 for short\n",
    "#The variable bacon is assigned the value 22. However, the second line (bacon + 1) is an expression that evaluates to 23,\n",
    "but the result is not stored or assigned to any variable. Therefore, after running this code, the variable bacon still contains the original value 22."
   ]
  },
  {
   "cell_type": "code",
   "execution_count": null,
   "id": "64206c9f",
   "metadata": {},
   "outputs": [],
   "source": [
    "bacon"
   ]
  },
  {
   "cell_type": "code",
   "execution_count": null,
   "id": "6d17f1f0",
   "metadata": {},
   "outputs": [],
   "source": [
    "7.What should the values of the following two terms be?\n",
    "'spam'+'spamspam'\n",
    "'spam' * 3\n",
    "Ans: The values of the two terms are:\n",
    "\n",
    "1. `'spam' + 'spamspam'`: This is string concatenation, and the result would be `'spamspamspam'`. The strings are combined, and the resulting string is longer.\n",
    "\n",
    "2. `'spam' * 3`: This is string repetition, and the result would be `'spamspamspam'`. The string `'spam'` is repeated three times to create a longer string."
   ]
  },
  {
   "cell_type": "code",
   "execution_count": null,
   "id": "b25c91af",
   "metadata": {},
   "outputs": [],
   "source": [
    "8.Why is eggs a valid variable name while 100 is invalid?\n",
    "Ans: Variable names in programming typically have rules to follow. In many languages:\n",
    "\n",
    "1. **`eggs` is a valid variable name** because it starts with a letter, and it consists of letters (both uppercase and lowercase), numbers, and underscores. It follows the common conventions for variable names.\n",
    "\n",
    "2. **`100` is invalid** because it starts with a number, which is generally not allowed in variable names. Variable names usually cannot begin with a digit in most programming languages. They should start with a letter or an underscore."
   ]
  },
  {
   "cell_type": "code",
   "execution_count": null,
   "id": "01136f66",
   "metadata": {},
   "outputs": [],
   "source": [
    "9.What three functions can be used to get the integer, floating-point number, or string\n",
    "version of a value?"
   ]
  },
  {
   "cell_type": "code",
   "execution_count": null,
   "id": "3cc785e0",
   "metadata": {},
   "outputs": [],
   "source": [
    "# Integer version\n",
    "integer_value = int(\"42\")\n",
    "\n",
    "# Floating-point version\n",
    "float_value = float(\"3.14\")\n",
    "\n",
    "# String version\n",
    "string_value = str(123)\n"
   ]
  },
  {
   "cell_type": "markdown",
   "id": "6bbd383d",
   "metadata": {},
   "source": [
    "10.Why does this expression cause an error? How can you fix it?\n",
    "'I have eaten' + 99 + 'burritos'"
   ]
  },
  {
   "cell_type": "code",
   "execution_count": null,
   "id": "b9606d28",
   "metadata": {},
   "outputs": [],
   "source": [
    "'I have eaten' + str(99) + 'burritos'\n"
   ]
  },
  {
   "cell_type": "code",
   "execution_count": null,
   "id": "bc8ffda4",
   "metadata": {},
   "outputs": [],
   "source": []
  }
 ],
 "metadata": {
  "kernelspec": {
   "display_name": "Python 3 (ipykernel)",
   "language": "python",
   "name": "python3"
  },
  "language_info": {
   "codemirror_mode": {
    "name": "ipython",
    "version": 3
   },
   "file_extension": ".py",
   "mimetype": "text/x-python",
   "name": "python",
   "nbconvert_exporter": "python",
   "pygments_lexer": "ipython3",
   "version": "3.11.3"
  }
 },
 "nbformat": 4,
 "nbformat_minor": 5
}
